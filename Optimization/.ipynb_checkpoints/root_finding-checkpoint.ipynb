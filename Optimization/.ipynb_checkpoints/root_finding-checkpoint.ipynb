{
 "cells": [
  {
   "cell_type": "markdown",
   "metadata": {},
   "source": [
    "# Root Finding\n",
    "\n",
    "There are multiple different root finding algorithms that can be used with **SciPy.Optimize.root_scalar()**. \n",
    "\n",
    "Most of these algorithms require the endpoints of an interval in which a root is expected. \n",
    "\n",
    "**brentq** is the best choice, but **newton** (or **halley**, **secant**) may be used instead. This is especially the case if the function is defined on a subset of the complex plane, and the bracketing methods cannot be used.\n",
    "\n",
    "These are the available root finding algorithms:-\n",
    "\n",
    "- bisect\n",
    "- brentq\n",
    "- brenth\n",
    "- ridder\n",
    "- toms748\n",
    "- secant\n",
    "- newton\n",
    "- halley"
   ]
  },
  {
   "cell_type": "markdown",
   "metadata": {},
   "source": [
    "## Example\n",
    "\n",
    "Evaluate the roots of the function $ f(x) = (x - 2) (x + 1)^2 +3 $"
   ]
  },
  {
   "cell_type": "code",
   "execution_count": 1,
   "metadata": {},
   "outputs": [
    {
     "data": {
      "image/png": "[encoded data removed]",
      "text/plain": [
       "<Figure size 640x480 with 1 Axes>"
      ]
     },
     "metadata": {},
     "output_type": "display_data"
    }
   ],
   "source": [
    "import numpy as np\n",
    "from scipy.optimize import root_scalar\n",
    "import matplotlib.pyplot as plt\n",
    "\n",
    "# function\n",
    "f = lambda x: (x - 2) * (x + 1)**2 +3\n",
    "\n",
    "x = np.linspace(-2.5, 2.5, 100)\n",
    "\n",
    "plt.plot(x, f(x))\n",
    "\n",
    "plt.axhline(0, color='gray')\n",
    "plt.axvline(0, color='gray')\n",
    "\n",
    "plt.title(\"Function\")\n",
    "plt.xlabel(\"x\")\n",
    "plt.ylabel(\"f(x)\")\n",
    "plt.show()"
   ]
  },
  {
   "cell_type": "markdown",
   "metadata": {},
   "source": [
    "**brentq** requires the bounds to be specified for each root. It stops calculation when it finds the first root"
   ]
  },
  {
   "cell_type": "code",
   "execution_count": 2,
   "metadata": {},
   "outputs": [
    {
     "data": {
      "text/plain": [
       "      converged: True\n",
       "           flag: converged\n",
       " function_calls: 14\n",
       "     iterations: 13\n",
       "           root: -1.8793852415718169"
      ]
     },
     "execution_count": 2,
     "metadata": {},
     "output_type": "execute_result"
    }
   ],
   "source": [
    "root = root_scalar(f, bracket=[-5, 5], method='brentq')\n",
    "\n",
    "# it stops on the first root at x = -1.88\n",
    "root"
   ]
  },
  {
   "cell_type": "markdown",
   "metadata": {},
   "source": [
    "To find all the roots, the bounds have to be specified"
   ]
  },
  {
   "cell_type": "code",
   "execution_count": 3,
   "metadata": {},
   "outputs": [
    {
     "name": "stdout",
     "output_type": "stream",
     "text": [
      "      converged: True\n",
      "           flag: converged\n",
      " function_calls: 11\n",
      "     iterations: 10\n",
      "           root: -1.8793852415718169\n",
      "\n",
      "      converged: True\n",
      "           flag: converged\n",
      " function_calls: 9\n",
      "     iterations: 8\n",
      "           root: 0.34729635533370307\n",
      "\n",
      "      converged: True\n",
      "           flag: converged\n",
      " function_calls: 10\n",
      "     iterations: 9\n",
      "           root: 1.532088886237956\n"
     ]
    }
   ],
   "source": [
    "root1 = root_scalar(f, bracket=[-3, -1], method='brentq')\n",
    "\n",
    "root2 = root_scalar(f, bracket=[0, 1], method='brentq')\n",
    "\n",
    "root3 = root_scalar(f, bracket=[1, 2], method='brentq')\n",
    "\n",
    "print(root1)\n",
    "print()\n",
    "print(root2)\n",
    "print()\n",
    "print(root3)"
   ]
  },
  {
   "cell_type": "markdown",
   "metadata": {},
   "source": [
    "The roots are at \n",
    "\n",
    "$ x = -1.879 $\n",
    "\n",
    "$ x = 0.347 $\n",
    "\n",
    "$ x = 1.532 $"
   ]
  }
 ],
 "metadata": {
  "kernelspec": {
   "display_name": "Python 3",
   "language": "python",
   "name": "python3"
  },
  "language_info": {
   "codemirror_mode": {
    "name": "ipython",
    "version": 3
   },
   "file_extension": ".py",
   "mimetype": "text/x-python",
   "name": "python",
   "nbconvert_exporter": "python",
   "pygments_lexer": "ipython3",
   "version": "3.10.11"
  }
 },
 "nbformat": 4,
 "nbformat_minor": 2
}
