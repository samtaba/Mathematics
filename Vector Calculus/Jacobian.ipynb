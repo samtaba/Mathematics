{
 "cells": [
  {
   "cell_type": "markdown",
   "metadata": {},
   "source": [
    "# Jacobian Matrix\n",
    "\n",
    "Given a vector function $ \\vec{\\bold{f}}(x_1, \\dots, x_n) $, the Jacobain matrix is defined as\n",
    "\n",
    "$\n",
    "\\mathbf{J}\n",
    "    =\n",
    "\\dfrac{d \\vec{\\mathbf{f}}}{d \\mathbf{x}}\n",
    "    =\n",
    "\\left[ \\dfrac{\\partial \\vec{\\mathbf{f}}}{\\partial x_1}\n",
    "\\cdots \\dfrac{\\partial \\vec{\\mathbf{f}}}{\\partial x_n} \\right]\n",
    "    =\n",
    "\\begin{bmatrix}\n",
    "\\dfrac{\\partial f_1}{\\partial x_1} & \\cdots &\n",
    "\\dfrac{\\partial f_1}{\\partial x_n} \\\\\n",
    "\\vdots & \\ddots & \\vdots \\\\\n",
    "\\dfrac{\\partial f_m}{\\partial x_1} & \\cdots &\n",
    "\\dfrac{\\partial f_m}{\\partial x_n}\n",
    "\\end{bmatrix}\n",
    "$\n"
   ]
  },
  {
   "cell_type": "markdown",
   "metadata": {},
   "source": [
    "### Example\n",
    "\n",
    "Given the vector function $ \\vec{\\bold{f}}(x_1,x_2) = x_1^2x_2 \\ \\bold{\\hat{i}} + x_1cos(x_2) \\ \\bold{\\hat{j}} $, find the Jacobian matrix\n",
    "\n",
    "$\n",
    " J =\n",
    "\\begin{bmatrix}\n",
    "\\dfrac{\\partial f_1}{\\partial x_1} & \\dfrac{\\partial f_1}{\\partial x_2} \\\\ \\\\\n",
    "\\dfrac{\\partial f_2}{\\partial x_1} & \\dfrac{\\partial f_2}{\\partial x_2}\n",
    "\\end{bmatrix} \n",
    "$\n",
    "    =\n",
    "$\n",
    "\\begin{bmatrix}\n",
    "2x_1x_2 & x_1^2 \\\\ \\\\\n",
    "cos(x_2) & -x_1sin(x_2)\n",
    "\\end{bmatrix}  \n",
    "$"
   ]
  }
 ],
 "metadata": {
  "language_info": {
   "name": "python"
  }
 },
 "nbformat": 4,
 "nbformat_minor": 2
}
