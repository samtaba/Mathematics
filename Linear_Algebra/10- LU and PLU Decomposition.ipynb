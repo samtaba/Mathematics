{
 "cells": [
  {
   "cell_type": "markdown",
   "metadata": {},
   "source": [
    "## LU Decomposition"
   ]
  },
  {
   "cell_type": "markdown",
   "metadata": {},
   "source": [
    "## PLU Decomposition\n",
    "\n",
    "Let $ \\textbf{A} $ be an $ m \\times n $ matrix. Then there exists a permutation matrix $ \\textbf{P} $ such that $ \\textbf{A = PLU} $, where $ \\textbf{L} $ is a lower triangular $ m \\times m $ matrix with 1s on the diagonal, $ \\textbf{U} $ is an $ m \\times n $ upper triangular matrix and $ \\textbf{P} $ is an $ m \\times m $ matrix known as the permutation matrix (a permutation of the rows of the identity matrix).\n",
    "\n"
   ]
  },
  {
   "cell_type": "code",
   "execution_count": 24,
   "metadata": {},
   "outputs": [
    {
     "name": "stdout",
     "output_type": "stream",
     "text": [
      "[[2 5 8 7]\n",
      " [5 2 2 8]\n",
      " [7 5 6 6]\n",
      " [5 4 4 8]] \n",
      "\n",
      "[[ 7.          5.          6.          6.        ]\n",
      " [ 0.          3.57142857  6.28571429  5.28571429]\n",
      " [ 0.          0.         -1.04        3.08      ]\n",
      " [ 0.          0.          0.          7.46153846]] \n",
      "\n",
      "[[0. 1. 0. 0.]\n",
      " [0. 0. 0. 1.]\n",
      " [1. 0. 0. 0.]\n",
      " [0. 0. 1. 0.]] \n",
      "\n",
      "[[2. 5. 8. 7.]\n",
      " [5. 2. 2. 8.]\n",
      " [7. 5. 6. 6.]\n",
      " [5. 4. 4. 8.]]\n"
     ]
    }
   ],
   "source": [
    "A = np.array([[2, 5, 8, 7], [5, 2, 2, 8], [7, 5, 6, 6], [5, 4, 4, 8]])\n",
    "\n",
    "p, l, u = sp.linalg.lu(A)\n",
    "\n",
    "print(A, '\\n')\n",
    "\n",
    "print(u, '\\n')\n",
    "\n",
    "print(p, '\\n')\n",
    "\n",
    "print(p @ l @ u)"
   ]
  }
 ],
 "metadata": {
  "kernelspec": {
   "display_name": "Python 3 (ipykernel)",
   "language": "python",
   "name": "python3"
  },
  "language_info": {
   "codemirror_mode": {
    "name": "ipython",
    "version": 3
   },
   "file_extension": ".py",
   "mimetype": "text/x-python",
   "name": "python",
   "nbconvert_exporter": "python",
   "pygments_lexer": "ipython3",
   "version": "3.10.11"
  }
 },
 "nbformat": 4,
 "nbformat_minor": 4
}
