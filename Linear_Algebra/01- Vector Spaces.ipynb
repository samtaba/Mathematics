{
 "cells": [
  {
   "cell_type": "markdown",
   "metadata": {},
   "source": [
    "## Vector Space\n",
    "\n",
    "Let $ V $ be an arbitrary nonemtpy set of objects (scalars, vectors, matrices, ...) for which two operations are defined, addition and multiplication by scalars. \n",
    "\n",
    "The addition rule means associating with each pair of objects $ \\textbf{u} $ and $ \\textbf{v} $ in $ V $ an object $ \\textbf{u} + \\textbf{v} $, called the sum.\n",
    "\n",
    "By multiplication we mean a rule associating with each scalar $ k $ and each object $ \\textbf{u} $ in $ V $ an object $ k \\textbf{u} $, called the scalar multiple of $ \\textbf{u} $ by $ k $.\n",
    "\n",
    "For a space to be called a vector space, it has to satisfy all the following axioms:\n",
    "\n",
    "1. If $ \\textbf{u} $ and $ \\textbf{v} $ are objects in $ V $, then $ \\textbf{u}+\\textbf{v} $ is also in $ V $\n",
    "2. $ \\textbf{u}+\\textbf{v} = \\textbf{v}+\\textbf{u} $    (commutative)\n",
    "3. $ \\textbf{u}+(\\textbf{v}+\\textbf{w}) = (\\textbf{u} + \\textbf{v})+\\textbf{w} $ (associative)\n",
    "4. There exists an object in $ V $, called the zero vector, that is denoted by $ \\textbf{0} $ and has the property for all $ \\textbf{u} $ in $ V $\n",
    "   \n",
    "   $ \\textbf{0} + \\textbf{u} = \\textbf{u} + \\textbf{0} = \\textbf{u} $\n",
    "\n",
    "5. For each $ \\textbf{u} $ in $ V $, there exists an object $ \\textbf{-u} $ in $ V $, called the negative of $ \\textbf{u} $ such that \n",
    "   \n",
    "   $ \\textbf{u} + (\\textbf{-u}) = (\\textbf{-u}) + \\textbf{u} = \\textbf{0} $\n",
    "\n",
    "6. If $ k $ is any scalar and $ \\textbf{u} $ is any object in $ V $, then $ k \\textbf{u} $ is in $ V $\n",
    "7. $ k (\\textbf{u} + \\textbf{v}) = k \\textbf{u} + k \\textbf{v} $\n",
    "8. $ (k + m) \\textbf{u} = k \\textbf{u} + m \\textbf{u} $\n",
    "9. $ k (m \\textbf{u}) = (km) \\textbf{u} $\n",
    "10. $ 1 \\textbf{u} = \\textbf{u} $"
   ]
  },
  {
   "cell_type": "markdown",
   "metadata": {},
   "source": [
    "## Vector Subspaces\n",
    "\n",
    "A subset $ W $ of a vector space $ V $ is called a subspace of $ V $ if $ W $ is a vector space under the addition and scalar multiplication defined on $ V $.\n",
    "\n",
    "#### Subspace Test\n",
    "\n",
    "If $ W $ is a nonempty set of vectors in a vector space $ V $, then $ W $ is a subspace of $ V $ if and only if the two conditions, 1 and 6 in vector space, are satisfied\n",
    "\n",
    "i) If $ \\textbf{u} $ and $ \\textbf{v} $ are objects in $ V $, then $ \\textbf{u}+\\textbf{v} $ is also in $ V $.\n",
    "\n",
    "ii) If $ k $ is any scalar and $ \\textbf{u} $ is any object in $ V $, then $ k \\textbf{u} $ is in $ V $."
   ]
  },
  {
   "cell_type": "markdown",
   "metadata": {},
   "source": [
    "## Inner Product\n",
    "\n",
    "Let $ \\textbf{u} = (u_1, u_2, \\cdots, u_n) $ and let $ \\textbf{v} = (v_1, v_2, \\cdots, v_n) $ be vectors in $ \\mathbb{R}^n $.\n",
    "The inner product of $ \\textbf{u} $ and $ \\textbf{v} $ is\n",
    "\n",
    "$ \\textbf{u} \\cdot \\textbf{v} = u_1 v_1 + u_2 v_2 + \\cdots + u_n v_n $.\n",
    "\n",
    "Let $ \\textbf{u} $, $ \\textbf{v} $, $ \\textbf{w} $ be vectors in $ \\mathbb{R}^n $ and let $ \\alpha $ be a scalar. Then\n",
    "\n",
    "- $ \\textbf{u} \\cdot \\textbf{v} = \\textbf{v} \\cdot \\textbf{u} $\n",
    "  \n",
    "- $ (\\textbf{u} + \\textbf{v}) \\cdot \\textbf{w} = \\textbf{u} \\cdot \\textbf{w} + \\textbf{v} \\cdot \\textbf{w} $\n",
    "  \n",
    "- $ (α\\textbf{u}) \\cdot \\textbf{v} = α(\\textbf{u} \\cdot \\textbf{v}) = \\textbf{u} \\cdot (α\\textbf{v}) $\n",
    "  \n",
    "- $ \\textbf{u} \\cdot \\textbf{u} ≥ \\textbf{0} $, and $ u • u = 0 $ if and only if $ \\textbf{u} = \\textbf{0} $"
   ]
  },
  {
   "cell_type": "markdown",
   "metadata": {},
   "source": [
    "## Length of the Vector\n",
    "\n",
    "- The length or norm of a vector $ \\textbf{u} ∈ \\mathbb{R}^n $ is defined as\n",
    "\n",
    "  $ \\lVert \\textbf{u} \\rVert = \\sqrt{\\textbf{u} \\cdot \\textbf{u}} = \\sqrt{u_{1}^2 + u_{2}^2 + \\cdots + u_{n}^2} $\n",
    "\n",
    "- Let $ \\textbf{u} ∈ \\mathbb{R}^n $ and let $ \\alpha $ be a scalar. Then $ \\lVert \\alpha \\textbf{u} \\rVert = |α| \\lVert\\textbf{u} \\rVert $.\n",
    "\n",
    "- Let $ \\textbf{u} $ and $ \\textbf{v} $ be vectors in $ \\mathbb{R}_n $. The distance between $ \\textbf{u} $ and $ \\textbf{v} $ is the length of the vector $ \\textbf{u} − \\textbf{v} $. We will denote the distance between $ \\textbf{u} $ and $ \\textbf{v} $ by $ d(\\textbf{u}, \\textbf{v}) $. In other words,\n",
    "\n",
    "  $ d(\\textbf{u}, \\textbf{v}) = k\\textbf{u} − v\\textbf{k} $"
   ]
  },
  {
   "cell_type": "markdown",
   "metadata": {},
   "source": [
    "## Orthogonality\n",
    "\n",
    "- Two vectors $ \\textbf{u} $ and $ \\textbf{v} $ in $ \\mathbb{R}^n $ are said to be orthogonal if $ \\textbf{u} \\cdot \\textbf{v} = \\textbf{0} $.\n",
    "\n",
    "- Two vectors $ \\textbf{u} $ and $ \\textbf{v} $ are orthogonal if and only if $ \\lVert\\textbf{u + v}\\rVert^2 = \\lVert\\textbf{u}\\rVert^2 + \\lVert\\textbf{v}\\rVert^2 $.\n",
    "\n",
    "- A set of vectors $ \\{\\textbf{u}_1, \\textbf{u}_2, \\cdots, \\textbf{u}_p\\} $ is said to be an orthogonal set if any pair of distinct vectors $ \\textbf{u}_i $, $ \\textbf{u}_j $ are orthogonal, that is, $ \\textbf{u}_i \\cdot \\textbf{u}_j = \\textbf{0} $ whenever $ i \\ne j $.\n",
    "\n",
    "- Let $ \\{\\textbf{u}_1, \\textbf{u}_2, \\cdots, \\textbf{u}_p\\} $ be an orthogonal set of non-zero vectors in $ \\mathbb{R}^n $. Then the set $ \\{\\textbf{u}_1, \\textbf{u}_2, \\cdots, \\textbf{u}_p\\} $ is linearly independent. In particular, if $ p = n $ then the set $ \\{\\textbf{u}_1, \\textbf{u}_2, \\cdots, \\textbf{u}_n\\} $ is basis for $ \\mathbb{R}^n $.\n",
    "\n",
    "- A set of vectors $ \\{\\textbf{u}_1, \\textbf{u}_2, \\cdots, \\textbf{u}_p\\} $ is said to be an orthonormal set if it is an orthogonal set and if each vector $ \\textbf{u}_i $ in the set is a unit vector."
   ]
  },
  {
   "cell_type": "markdown",
   "metadata": {},
   "source": [
    "## Linear Maps On Vector Spaces\n",
    "\n",
    "Let $ T : V → U $ be a mapping of vector spaces. Then $ T $ is called a linear mapping if\n",
    "\n",
    "- for any $ \\textbf{u} $, $ \\textbf{v} $ in $ V $ it holds that $ T(\\textbf{u} + \\textbf{v}) = T(\\textbf{u}) + T(\\textbf{v}) $, and\n",
    "\n",
    "- for any scalar α and $ \\textbf{u} $ in V it holds that $ T(α\\textbf{v}) = αT(\\textbf{v}) $.\n",
    "\n",
    "Let $ T : V → U $ be a linear mapping.\n",
    "\n",
    "- The kernel of $ T $ is the set of vectors $ \\textbf{v} $ in the domain $ V $ that get mapped to the zero vector, that is, $ T(\\textbf{v}) = 0 $. We denote the kernel of $ T $ by \n",
    "$ ker(T): ker(T) = {\\textbf{v} ∈ V \\ | \\ T(\\textbf{v}) = 0} $.\n",
    "\n",
    "- The range of $ T $ is the set of vectors $ b $ in the co-domain $ U $ for which there exists at least one $ \\textbf{v} $ in $ V $ such that $ T(\\textbf{v}) = \\textbf{b} $. We denote the range of $ T $ by \n",
    "\n",
    "  $ Range(T): Range(T) = {b ∈ U | \\text{ there exists some } v ∈ U \\text{ such that } T(v) = b} $.\n",
    "\n",
    "\n",
    "Let $ T : V → U $ be a linear mapping. Then $ ker(T) $ is a subspace of $ V $ and $ Range(T) $ is a subspace of $ U $."
   ]
  }
 ],
 "metadata": {
  "kernelspec": {
   "display_name": "Python 3 (ipykernel)",
   "language": "python",
   "name": "python3"
  },
  "language_info": {
   "codemirror_mode": {
    "name": "ipython",
    "version": 3
   },
   "file_extension": ".py",
   "mimetype": "text/x-python",
   "name": "python",
   "nbconvert_exporter": "python",
   "pygments_lexer": "ipython3",
   "version": "3.10.11"
  }
 },
 "nbformat": 4,
 "nbformat_minor": 4
}
