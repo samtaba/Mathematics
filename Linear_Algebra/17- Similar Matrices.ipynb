{
 "cells": [
  {
   "cell_type": "markdown",
   "metadata": {},
   "source": [
    "## Similar Matrices\n",
    "\n",
    "Let $ \\textbf{A} $ and $ \\textbf{P} $ be $ n \\times n $ matrices. Then $ \\textbf{P}^{-1}\\textbf{A}\\textbf{P} $ is called a similarity transformation of $ \\textbf{A} $\n",
    "\n",
    "Any property preserved by a similarity transformation is called a similarity invariant.\n",
    "\n",
    "### Similarity Invariants\n",
    "\n",
    "These include the following\n",
    "\n",
    "- Determinant: $ \\ \\ det(\\textbf{A}) = det(\\textbf{P}^{-1} \\textbf{A} \\textbf{P}) $\n",
    "\n",
    "- Invertibility: $ \\ \\ \\textbf{A} $ is invertible if and only if $ \\textbf{P}^{-1} \\textbf{A} \\textbf{P} $ is invertible\n",
    "\n",
    "- Rank: $ \\ \\ rank(\\textbf{A}) = rank(\\textbf{P}^{-1} \\textbf{A} \\textbf{P}) $\n",
    "\n",
    "- Nullity: $ \\ \\ nullity(\\textbf{A}) = nullity(\\textbf{P}^{-1}\\textbf{A}\\textbf{P}) $ \n",
    "\n",
    "- Trace: $ \\ \\ tr(\\textbf{A}) = tr(\\textbf{P}^{-1}\\textbf{A}\\textbf{P}) $\n",
    "\n",
    "- Characteristic Polynomial: $ \\ \\ det(\\lambda\\textbf{I} - \\textbf{A}) = det(\\lambda\\textbf{I}-\\textbf{P}^{-1}\\textbf{A}\\textbf{P}) $\n",
    "\n",
    "- Eigenvalues: $ \\ \\ \\textbf{A} $ and $ \\textbf{P}^{-1}\\textbf{A}\\textbf{P} $ have the same eigenvalues\n",
    "\n",
    "- Eigenspace Dimension: The corresponding eigenspace of $ \\ \\textbf{A} $ and $ \\textbf{P}^{-1}\\textbf{A}\\textbf{P} $ have equal dimensions."
   ]
  },
  {
   "cell_type": "markdown",
   "metadata": {},
   "source": [
    "### Example\n",
    "\n",
    "Show $ \\textbf{A} $ and $ \\textbf{B} $ are similar matrices by showing $ \\textbf{B} = \\textbf{P}^{-1}\\textbf{A}\\textbf{P} $, where\n",
    "\n",
    "$ \n",
    "\\textbf{A} = \n",
    "\\begin{bmatrix}\n",
    "2 & -2 \\\\\n",
    "-1 & 3\n",
    "\\end{bmatrix}\n",
    "\\ \\ , \\ \\\n",
    "\\textbf{B} = \n",
    "\\begin{bmatrix}\n",
    "3 & -2 \\\\\n",
    "-1 & 2\n",
    "\\end{bmatrix}\n",
    "\\ \\ , \\ \\\n",
    "\\textbf{P} = \n",
    "\\begin{bmatrix}\n",
    "1 & 1 \\\\\n",
    "0 & 1\n",
    "\\end{bmatrix}\n",
    "$\n",
    "\n",
    "**Solution:**\n",
    "\n",
    "First, find the inverse of $ \\textbf{P} $"
   ]
  },
  {
   "cell_type": "code",
   "execution_count": 1,
   "metadata": {},
   "outputs": [
    {
     "name": "stdout",
     "output_type": "stream",
     "text": [
      "[[ 1. -1.]\n",
      " [ 0.  1.]]\n"
     ]
    }
   ],
   "source": [
    "import numpy as np\n",
    "import scipy as sp\n",
    "\n",
    "p = np.array([[1, 1], [0, 1]])\n",
    "\n",
    "p_inv = sp.linalg.inv(p)\n",
    "\n",
    "print(p_inv)"
   ]
  },
  {
   "cell_type": "markdown",
   "metadata": {},
   "source": [
    "Therefore \n",
    "\n",
    "$\n",
    "\\textbf{P}^{-1} = \n",
    "\\begin{bmatrix}\n",
    "1 & -1 \\\\\n",
    "0 & 1\n",
    "\\end{bmatrix}\n",
    "$\n",
    "\n",
    "Now evaluate $ \\textbf{B} = \\textbf{P}^{-1}\\textbf{A}\\textbf{P} $\n",
    "\n",
    "Therefore \n",
    "\n",
    "$\n",
    "\\textbf{B} = \n",
    "\\begin{bmatrix}\n",
    "1 & -1 \\\\\n",
    "0 & 1\n",
    "\\end{bmatrix}\n",
    "\\begin{bmatrix}\n",
    "2 & -2 \\\\\n",
    "-1 & 3\n",
    "\\end{bmatrix}\n",
    "\\begin{bmatrix}\n",
    "1 & 1 \\\\\n",
    "0 & 1\n",
    "\\end{bmatrix}\n",
    "$\n",
    "\n",
    "$ \\Rightarrow\n",
    "\\textbf{B} = \n",
    "\\begin{bmatrix}\n",
    "3 & -2 \\\\\n",
    "-1 & 2\n",
    "\\end{bmatrix}\n",
    "$\n",
    "\n",
    "$ \\therefore \\textbf{A} $ and $ \\textbf{B} $ are similar"
   ]
  }
 ],
 "metadata": {
  "kernelspec": {
   "display_name": "Python 3 (ipykernel)",
   "language": "python",
   "name": "python3"
  },
  "language_info": {
   "codemirror_mode": {
    "name": "ipython",
    "version": 3
   },
   "file_extension": ".py",
   "mimetype": "text/x-python",
   "name": "python",
   "nbconvert_exporter": "python",
   "pygments_lexer": "ipython3",
   "version": "3.10.11"
  }
 },
 "nbformat": 4,
 "nbformat_minor": 4
}
