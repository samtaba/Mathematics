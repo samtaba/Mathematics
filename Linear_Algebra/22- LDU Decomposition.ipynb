{
 "cells": [
  {
   "cell_type": "markdown",
   "metadata": {},
   "source": [
    "## LDU Decomposition\n",
    "\n",
    "$ \\textbf{LU} $ decomposition is not unique when the $ \\textbf{L} $ matrix has non-zero diagonal entries. \n",
    "\n",
    "$\n",
    "\\textbf{A} = \\textbf{LU} =  \n",
    "\\begin{bmatrix}\n",
    "l_{11} & 0 & 0 \\\\\n",
    "l_{21} & l_{22} & 0 \\\\\n",
    "l_{31} & l_{32} & l_{33}\n",
    "\\end{bmatrix}\n",
    "\\begin{bmatrix}\n",
    "1 & u_{12} & u_{13} \\\\\n",
    "0 & 1 & u_{23} \\\\\n",
    "0 & 0 & 1\n",
    "\\end{bmatrix}\n",
    "$\n",
    "\n",
    "When finding $ \\textbf{LU} $ decomposition requires us to perform Gaussian elimination to find the $ \\textbf{U} $ matrix, and thus $ \\textbf{U} $ will have 1's on the diagonal as well by factoring the diagonal entries out to a diagonal matrix, provided these diagonal entries are non-zero. This results in $ \\textbf{LDU} $ decomposition, where $ \\textbf{D} $ is a diagonal matrix."
   ]
  }
 ],
 "metadata": {
  "kernelspec": {
   "display_name": "Python 3 (ipykernel)",
   "language": "python",
   "name": "python3"
  },
  "language_info": {
   "codemirror_mode": {
    "name": "ipython",
    "version": 3
   },
   "file_extension": ".py",
   "mimetype": "text/x-python",
   "name": "python",
   "nbconvert_exporter": "python",
   "pygments_lexer": "ipython3",
   "version": "3.10.11"
  }
 },
 "nbformat": 4,
 "nbformat_minor": 4
}
