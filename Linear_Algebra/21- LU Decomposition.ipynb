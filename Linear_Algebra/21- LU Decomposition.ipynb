{
 "cells": [
  {
   "cell_type": "markdown",
   "metadata": {},
   "source": [
    "## LU Decomposition\n",
    "\n",
    "A factorization of a square matrix $ \\textbf{A} $ into $ \\textbf{A} = \\textbf{LU} $, a lower triangular matrix and an upper triangular matrix is called $ \\textbf{LU} $ decomposition of $ \\textbf{A} $. \n",
    "\n",
    "$ \\textbf{LU} $ decomposition is used to solve a system of linear equations.\n",
    "\n",
    "#### Theorem\n",
    "\n",
    "If $ \\textbf{A} $ is a square matrix that can be reduced to a row echelon form $ \\textbf{U} $ through Gaussian elimination without row swaps, then $ \\textbf{A} $ can be factored as $ \\textbf{A} = \\textbf{LU} $ where $ \\textbf{L} $ is a lower triangular matrix and $ \\textbf{U} $ is an upper triangular matrix.\n",
    "\n",
    "#### Proof\n",
    "\n",
    "The Gaussian elimination that reduces $ \\textbf{A} $ to $ \\textbf{U} $ maybe regarded as a sequence of elementary row operations. Hence\n",
    "\n",
    "$ \\textbf{E}_k \\cdots \\textbf{E}_2 \\textbf{E}_1 \\textbf{A} = \\textbf{U} $\n",
    "\n",
    "Which we may solve for $ \\textbf{A} $ to find\n",
    "\n",
    "$ \\textbf{A} = \\textbf{E}_1^{-1} \\textbf{E}_2^{-1} \\cdots \\textbf{E}_k^{-1} \\textbf{U} $\n",
    "\n",
    "Let $ \\textbf{L} = \\textbf{E}_1^{-1} \\textbf{E}_2^{-1} \\cdots \\textbf{E}_k^{-1} $\n",
    "\n",
    "$ \\textbf{U} $ is an upper triangular matrix because it is in row echelon form.\n",
    "\n",
    "$ \\textbf{L} $ is a lower triangular matrix because since row swaps are excluded, each $ \\textbf{E}_i $ results from either adding a scalar multiple of one row of an identity matrix to a row below of from multiplying one row of an identity matrix by a nonzero scalar. Also, each $ \\textbf{E}_1 $ is lower triangular, and thus each $ \\textbf{E}_i^{-1} $ and their products are lower triangular as well."
   ]
  },
  {
   "cell_type": "markdown",
   "metadata": {},
   "source": [
    "### Example 1\n",
    "\n",
    "Find the LU decomposition of the following matrix\n",
    "\n"
   ]
  },
  {
   "cell_type": "markdown",
   "metadata": {},
   "source": [
    "### Solving Linear Equations\n",
    "\n",
    "1. We want to solve $ \\textbf{Ax} = \\textbf{b} $. \n",
    "   \n",
    "   Let $ \\textbf{A} = \\textbf{LU} $ \n",
    "\n",
    "   $ \\Rightarrow \\ \\textbf{LUx} = \\textbf{b} $\n",
    "\n",
    "2. Make the substitution $ \\textbf{y} = \\textbf{Ux} $ to obtain $ \\textbf{Ly} = \\textbf{b} \\ \\ $ then solve for $ \\textbf{y} $ \n",
    "\n",
    "3. Using $ \\textbf{y} = \\textbf{Ux} $, substitute the solve value of $ \\textbf{y} $ then solve for $ \\textbf{x} $\n",
    "\n",
    "With this method, instead of solving one system $ \\textbf{Ax} = \\textbf{b} $, we solve two systems $ \\textbf{Ly} = \\textbf{b} $ and $ \\textbf{Ux} = \\textbf{y} $, both with triangular coefficient matrices."
   ]
  },
  {
   "cell_type": "markdown",
   "metadata": {},
   "source": [
    "### Example 2\n",
    "\n",
    "Solve linear equations\n",
    "\n",
    "<img src=\"./images/LU_Example1_1.png\" width=\"500px\" style=\"filter:invert(1)\">\n",
    "\n",
    "<img src=\"./images/LU_Example1_2.png\" width=\"500px\" style=\"filter:invert(1)\">"
   ]
  }
 ],
 "metadata": {
  "kernelspec": {
   "display_name": "Python 3 (ipykernel)",
   "language": "python",
   "name": "python3"
  },
  "language_info": {
   "codemirror_mode": {
    "name": "ipython",
    "version": 3
   },
   "file_extension": ".py",
   "mimetype": "text/x-python",
   "name": "python",
   "nbconvert_exporter": "python",
   "pygments_lexer": "ipython3",
   "version": "3.10.11"
  }
 },
 "nbformat": 4,
 "nbformat_minor": 4
}
