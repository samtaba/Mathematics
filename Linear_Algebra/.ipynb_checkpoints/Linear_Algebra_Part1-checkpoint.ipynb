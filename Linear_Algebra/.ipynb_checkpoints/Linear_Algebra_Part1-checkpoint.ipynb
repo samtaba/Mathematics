{
 "cells": [
  {
   "cell_type": "markdown",
   "metadata": {},
   "source": [
    "# Linear Algebra - Part 1"
   ]
  },
  {
   "cell_type": "markdown",
   "metadata": {},
   "source": [
    "## Linear Combinations\n",
    "\n",
    "Let $ \\{ \\textbf{v}_1, \\ \\textbf{v}_2, \\ \\cdots \\, \\textbf{v}_p \\} $ be vectors in $ \\mathbb{R}^n $. A vector $ \\textbf{b} $ is said to be a linear combination of the vectors $ \\{ \\textbf{v}_1, \\ \\textbf{v}_2, \\ \\cdots, \\ \\textbf{v}_p \\} $ if there exists scalars $ x_1, x_2, \\cdots, x_p $ such that $ x_1 \\ \\textbf{v}_1 + x_2 \\ \\textbf{v}_2 + \\ \\cdots \\ + x_p \\ \\textbf{v}_p = \\textbf{b} $.\n",
    "\n",
    "#### Linear Combination Problem\n",
    "\n",
    "Given vectors $ \\textbf{v}_1, \\cdots, \\textbf{v}_p $ and $ \\textbf{b} $, is $ \\textbf{b} $ a linear combination of $ \\textbf{v}_1, \\cdots, \\textbf{v}_p $ ?\n",
    "\n",
    "The problem of determining if a given vector $ \\textbf{b} $ is a linear combination of the vectors $ \\textbf{v}_1, \\textbf{v}_2, \\cdots, \\textbf{v}_p $ is equivalent to solving the linear system of equations with augmented matrix\n",
    "\n",
    "$ [ \\textbf{A} \\ \\ \\textbf{b} ] = [ \\textbf{v}_1 \\ \\ \\textbf{v}_2 \\ \\ \\cdots \\ \\ \\textbf{v}_p \\ \\ \\textbf{b} ] $"
   ]
  },
  {
   "cell_type": "markdown",
   "metadata": {},
   "source": [
    "## Span\n",
    "\n",
    "Let $ \\textbf{v}_1, \\textbf{v}_2, \\cdots, \\textbf{v}_p $ be vectors. The set of all vectors that are a linear combination of $ \\textbf{v}_1, \\textbf{v}_2, \\cdots, \\textbf{v}_p $ is called the span of $ \\textbf{v}_1, \\textbf{v}_2, \\cdots, \\textbf{v}_p $, and we denote it by\n",
    "\n",
    "$ S = span\\{\\textbf{v}_1, \\textbf{v}_2, \\cdots, \\textbf{v}_p\\} $\n",
    "\n",
    "This means if $ \\textbf{b} \\in span\\{\\textbf{v}_1, \\textbf{v}_2, \\cdots, \\textbf{v}_p\\} $ this implies there are scalars $ x_1, x_2, ..., x_n $ such that $  x_1 \\textbf{v}_1 + x_2 \\textbf{v}_2 + ··· + x_p \\textbf{v}_p = \\textbf{b} $"
   ]
  },
  {
   "cell_type": "markdown",
   "metadata": {},
   "source": [
    "## Linear Independence\n",
    "\n",
    "A set of vectors $ \\textbf{v}_1, \\textbf{v}_2, ..., \\textbf{v}_n $ is said to be linearly dependent if some $ \\textbf{v}_j $ can be written as a linear combination of the other vectors, that is, if $ \\textbf{v}_j \\in span\\{ \\textbf{v}_1, ..., \\textbf{v}_{j−1}, \\textbf{v}_{j+1}, ..., \\textbf{v}_n \\} $. If $ \\textbf{v}_1, \\textbf{v}_2, ..., \\textbf{v}_n $ is not linearly dependent then we say that $ \\textbf{v}_1, \\textbf{v}_2, ..., \\textbf{v}_n $ is linearly independent.\n",
    "\n",
    "The set of vectors $ \\textbf{v}_1, \\textbf{v}_2, ... , \\textbf{v}_n $ is linearly independent if and only if $ \\textbf{0} $ can be written in only one way as a linear combination of $ \\textbf{v}_1, \\textbf{v}_2, ..., \\textbf{v}_n $. In other words, if $ t_1\\textbf{v}_1 + t_2 \\textbf{v}_2 + ···+ t_n \\textbf{v}_n = \\textbf{0} $ then necessarily the coefficients $ t_1, t_2, ..., t_n $ are all zero.\n",
    "\n",
    "The set $ \\textbf{v}_1, \\textbf{v}_2, ..., \\textbf{v}_n $ is linearly independent if and only if the the rank of $ \\textbf{A} $ is $ r = n $, that is, if the number of leading entries $ r $ in the REF (or RREF) of $ \\textbf{A} $ is exactly $ n $."
   ]
  },
  {
   "cell_type": "markdown",
   "metadata": {},
   "source": [
    "## The maximum size of a linearly independent set\n",
    "\n",
    "Let $ \\textbf{v}_1, \\textbf{v}_2, ..., \\textbf{v}_p $ be a set of vectors in $ \\mathbb{R}^n $. If $ p > n $ then $ \\textbf{v}_1, \\textbf{v}_2, ..., \\textbf{v}_p $ are linearly dependent. Equivalently, if the vectors $ \\textbf{v}_1, \\textbf{v}_2, ..., \\textbf{v}_p $ in $ \\mathbb{R}^n $ are linearly independent then $ p ≤ n $."
   ]
  },
  {
   "cell_type": "markdown",
   "metadata": {},
   "source": [
    "## Vector Space\n",
    "\n",
    "Let $ V $ be an arbitrary nonemtpy set of objects (scalars, vectors, matrices, ...) for which two operations are defined, addition and multiplication by scalars. \n",
    "\n",
    "The addition rule means associating with each pair of objects $ \\textbf{u} $ and $ \\textbf{v} $ in $ V $ an object $ \\textbf{u} + \\textbf{v} $, called the sum.\n",
    "\n",
    "By multiplication we mean a rule associating with each scalar $ k $ and each object $ \\textbf{u} $ in $ V $ an object $ k \\textbf{u} $, called the scalar multiple of $ \\textbf{u} $ by $ k $.\n",
    "\n",
    "For a space to be called a vector space, it has to satisfy all the following axioms:\n",
    "\n",
    "1. If $ \\textbf{u} $ and $ \\textbf{v} $ are objects in $ V $, then $ \\textbf{u}+\\textbf{v} $ is also in $ V $\n",
    "2. $ \\textbf{u}+\\textbf{v} = \\textbf{v}+\\textbf{u} $    (commutative)\n",
    "3. $ \\textbf{u}+(\\textbf{v}+\\textbf{w}) = (\\textbf{u} + \\textbf{v})+\\textbf{w} $ (associative)\n",
    "4. There exists an object in $ V $, called the zero vector, that is denoted by $ \\textbf{0} $ and has the property for all $ \\textbf{u} $ in $ V $\n",
    "   \n",
    "   $ \\textbf{0} + \\textbf{u} = \\textbf{u} + \\textbf{0} = \\textbf{u} $\n",
    "\n",
    "5. For each $ \\textbf{u} $ in $ V $, there exists an object $ \\textbf{-u} $ in $ V $, called the negative of $ \\textbf{u} $ such that \n",
    "   \n",
    "   $ \\textbf{u} + (\\textbf{-u}) = (\\textbf{-u}) + \\textbf{u} = \\textbf{0} $\n",
    "\n",
    "6. If $ k $ is any scalar and $ \\textbf{u} $ is any object in $ V $, then $ k \\textbf{u} $ is in $ V $\n",
    "7. $ k (\\textbf{u} + \\textbf{v}) = k \\textbf{u} + k \\textbf{v} $\n",
    "8. $ (k + m) \\textbf{u} = k \\textbf{u} + m \\textbf{u} $\n",
    "9. $ k (m \\textbf{u}) = (km) \\textbf{u} $\n",
    "10. $ 1 \\textbf{u} = \\textbf{u} $"
   ]
  },
  {
   "cell_type": "markdown",
   "metadata": {},
   "source": [
    "## Vector Subspaces\n",
    "\n",
    "A subset $ W $ of a vector space $ V $ is called a subspace of $ V $ if $ W $ is a vector space under the addition and scalar multiplication defined on $ V $.\n",
    "\n",
    "#### Subspace Test\n",
    "\n",
    "If $ W $ is a nonempty set of vectors in a vector space $ V $, then $ W $ is a subspace of $ V $ if and only if the two conditions, 1 and 6 in vector space, are satisfied\n",
    "\n",
    "i) If $ \\textbf{u} $ and $ \\textbf{v} $ are objects in $ V $, then $ \\textbf{u}+\\textbf{v} $ is also in $ V $.\n",
    "\n",
    "ii) If $ k $ is any scalar and $ \\textbf{u} $ is any object in $ V $, then $ k \\textbf{u} $ is in $ V $."
   ]
  },
  {
   "cell_type": "markdown",
   "metadata": {},
   "source": [
    "## Linear Maps On Vector Spaces\n",
    "\n",
    "Let $ T : V → U $ be a mapping of vector spaces. Then $ T $ is called a linear mapping if\n",
    "\n",
    "- for any $ \\textbf{u} $, $ \\textbf{v} $ in $ V $ it holds that $ T(\\textbf{u} + \\textbf{v}) = T(\\textbf{u}) + T(\\textbf{v}) $, and\n",
    "\n",
    "- for any scalar α and $ \\textbf{u} $ in V it holds that $ T(α\\textbf{v}) = αT(\\textbf{v}) $.\n",
    "\n",
    "Let $ T : V → U $ be a linear mapping.\n",
    "\n",
    "- The kernel of $ T $ is the set of vectors $ \\textbf{v} $ in the domain $ V $ that get mapped to the zero vector, that is, $ T(\\textbf{v}) = 0 $. We denote the kernel of $ T $ by \n",
    "$ ker(T): ker(T) = {\\textbf{v} ∈ V \\ | \\ T(\\textbf{v}) = 0} $.\n",
    "\n",
    "- The range of $ T $ is the set of vectors $ b $ in the co-domain $ U $ for which there exists at least one $ \\textbf{v} $ in $ V $ such that $ T(\\textbf{v}) = \\textbf{b} $. We denote the range of $ T $ by \n",
    "\n",
    "  $ Range(T): Range(T) = {b ∈ U | \\text{ there exists some } v ∈ U \\text{ such that } T(v) = b} $.\n",
    "\n",
    "<br>\n",
    "Let $ T : V → U $ be a linear mapping. Then $ ker(T) $ is a subspace of $ V $ and $ Range(T) $ is a subspace of $ U $."
   ]
  },
  {
   "cell_type": "markdown",
   "metadata": {},
   "source": [
    "## Null Space and Column Space\n",
    "\n",
    "The null space of a matrix $ \\textbf{A} ∈ M_{m×n} $, denoted by $ Null(\\textbf{A}) $, is the subset of $ \\mathbb{R}^n $ consisting of vectors $ \\textbf{v} $ such that $ \\textbf{Av = 0} $. In other words, $ \\textbf{v} ∈ Null(\\textbf{A}) $ if and only if $ \\textbf{Av = 0} $. Using set notation:\n",
    "\n",
    "$ Null(\\textbf{A}) = {\\textbf{v} ∈ \\mathbb{R}^n \\ | \\ \\textbf{Av = 0}} $"
   ]
  },
  {
   "cell_type": "markdown",
   "metadata": {},
   "source": [
    "## Bases Vectors\n",
    "\n",
    "Let $ W $ be a subspace of a vector space $ V $. A set of vectors $ B = \\{v_1, \\cdots , v_k\\} $ in $ W $ is said to be a basis for $ W $ if \n",
    "\n",
    "- The set $ B $ spans all of $ W $, that is, $ W = span\\{v_1, \\cdots, v_k\\} $, and\n",
    "  \n",
    "- The set $ B $ is linearly independent."
   ]
  },
  {
   "cell_type": "markdown",
   "metadata": {},
   "source": [
    "## Dimension Vector Space\n",
    "\n",
    "Let $ V $ be a vector space. Then all bases of $ V $ have the same number of vectors.\n",
    "\n",
    "Let $ V $ be a vector space. The dimension of $ V $, denoted $ dim V $, is the number of vectors in any basis of $ V $. The dimension of the trivial vector space $ V = {0} $ is\n",
    "defined to be zero.\n",
    "\n",
    "Let $ B = \\{\\textbf{v}_1, \\cdots , \\textbf{v}_n\\} $ be vectors in $ \\mathbb{R}^n $. If $ \\textbf{B} $ is linearly independent then $ \\textbf{B} $ is a basis for $ \\mathbb{R}^n $. \n",
    "Or if $ span\\{\\textbf{v}_1, \\textbf{v}_2, \\cdots, \\textbf{v}_n\\} = \\mathbb{R}^n $ then $ \\textbf{B} $ is a basis for $ \\mathbb{R}^n $."
   ]
  },
  {
   "cell_type": "markdown",
   "metadata": {},
   "source": [
    "## Rank Theorem\n",
    "\n",
    "- The rank of a matrix $ \\textbf{A} $ is the dimension of its column space. We will use $ rank(\\textbf{A}) $ to denote the rank of $ \\textbf{A} $\n",
    "\n",
    "- The nullity of a matrix $ \\textbf{A} $ is the dimension of its null space $ Null(A) $. We will use $ nullity(\\textbf{A}) $ to denote the nullity of $ \\textbf{A} $.\n",
    "\n",
    "- (Rank Theorem) Let $ \\textbf{A} $ be a $ m \\times n $ matrix. The rank of $ \\textbf{A} $ is the number of leading 1's in its RREF. Moreover, the following equation holds:\n",
    "\n",
    "  $ n = rank(\\textbf{A}) + nullity(\\textbf{A}) $\n",
    "\n",
    "- Let $ \\textbf{A} $ be a $ n \\times n $ matrix. The following statements are equivalent:\n",
    "  \n",
    "  - The columns of $ \\textbf{A} $ form a basis for $ \\mathbb{R}^n $\n",
    "    \n",
    "  - $ Col(\\textbf{A}) = \\mathbb{R}^n $\n",
    "    \n",
    "  - $ rank(\\textbf{A}) = n $\n",
    "    \n",
    "  - $ Null(\\textbf{A}) = {0} $\n",
    "    \n",
    "  - $ nullity(\\textbf{A}) = 0 $\n",
    "    \n",
    "  - $ A $ is an invertible matrix\n"
   ]
  },
  {
   "cell_type": "markdown",
   "metadata": {},
   "source": [
    "## Coordinate Systems\n",
    "\n",
    "Let $ B = {\\textbf{v}_1, \\cdots, \\textbf{v}_n} $ be a basis for $ V $ and let $ x ∈ V $. \n",
    "The coordinates of $ x $ relative to the basis $ B $ are the unique scalars $ c_1, c_2, \\cdots, c_n $ such that $ \\textbf{x} = c_1\\textbf{v}_1 + c_2\\textbf{v}_2 + \\cdots + c_n\\textbf{v}_n $.\n",
    "\n",
    "In vector notation, the B-coordinates of $ x $ will be denoted by\n",
    "\n",
    "  $\n",
    "  [\\textbf{x}]_B =\n",
    "  \\begin{bmatrix}\n",
    "  c_1 \\\\\n",
    "  c_2 \\\\\n",
    "  \\vdots \\\\\n",
    "  c_n\n",
    "  \\end{bmatrix}\n",
    "  $\n",
    "\n",
    "and we will call $ [\\textbf{x}]_B $ the coordinate vector of $ \\textbf{x} $ relative to $ B $."
   ]
  },
  {
   "cell_type": "markdown",
   "metadata": {},
   "source": [
    "## Inner Product\n",
    "\n",
    "Let $ \\textbf{u} = (u_1, u_2, \\cdots, u_n) $ and let $ \\textbf{v} = (v_1, v_2, \\cdots, v_n) $ be vectors in $ \\mathbb{R}^n $.\n",
    "The inner product of $ \\textbf{u} $ and $ \\textbf{v} $ is\n",
    "\n",
    "$ \\textbf{u} \\cdot \\textbf{v} = u_1 v_1 + u_2 v_2 + \\cdots + u_n v_n $.\n",
    "\n",
    "Let $ \\textbf{u} $, $ \\textbf{v} $, $ \\textbf{w} $ be vectors in $ \\mathbb{R}^n $ and let $ \\alpha $ be a scalar. Then\n",
    "\n",
    "- $ \\textbf{u} \\cdot \\textbf{v} = \\textbf{v} \\cdot \\textbf{u} $\n",
    "  \n",
    "- $ (\\textbf{u} + \\textbf{v}) \\cdot \\textbf{w} = \\textbf{u} \\cdot \\textbf{w} + \\textbf{v} \\cdot \\textbf{w} $\n",
    "  \n",
    "- $ (α\\textbf{u}) \\cdot \\textbf{v} = α(\\textbf{u} \\cdot \\textbf{v}) = \\textbf{u} \\cdot (α\\textbf{v}) $\n",
    "  \n",
    "- $ \\textbf{u} \\cdot \\textbf{u} ≥ \\textbf{0} $, and $ u • u = 0 $ if and only if $ \\textbf{u} = \\textbf{0} $"
   ]
  },
  {
   "cell_type": "markdown",
   "metadata": {},
   "source": [
    "## Length of the Vector\n",
    "\n",
    "- The length or norm of a vector $ \\textbf{u} ∈ \\mathbb{R}^n $ is defined as\n",
    "\n",
    "  $ \\lVert \\textbf{u} \\rVert = \\sqrt{\\textbf{u} \\cdot \\textbf{u}} = \\sqrt{u_{1}^2 + u_{2}^2 + \\cdots + u_{n}^2} $\n",
    "\n",
    "- Let $ \\textbf{u} ∈ \\mathbb{R}^n $ and let $ \\alpha $ be a scalar. Then $ \\lVert \\alpha \\textbf{u} \\rVert = |α| \\lVert\\textbf{u} \\rVert $.\n",
    "\n",
    "- Let $ \\textbf{u} $ and $ \\textbf{v} $ be vectors in $ \\mathbb{R}_n $. The distance between $ \\textbf{u} $ and $ \\textbf{v} $ is the length of the vector $ \\textbf{u} − \\textbf{v} $. We will denote the distance between $ \\textbf{u} $ and $ \\textbf{v} $ by $ d(\\textbf{u}, \\textbf{v}) $. In other words,\n",
    "\n",
    "  $ d(\\textbf{u}, \\textbf{v}) = k\\textbf{u} − v\\textbf{k} $"
   ]
  },
  {
   "cell_type": "markdown",
   "metadata": {},
   "source": [
    "## Orthogonality\n",
    "\n",
    "- Two vectors $ \\textbf{u} $ and $ \\textbf{v} $ in $ \\mathbb{R}^n $ are said to be orthogonal if $ \\textbf{u} \\cdot \\textbf{v} = \\textbf{0} $.\n",
    "\n",
    "- Two vectors $ \\textbf{u} $ and $ \\textbf{v} $ are orthogonal if and only if $ \\lVert\\textbf{u + v}\\rVert^2 = \\lVert\\textbf{u}\\rVert^2 + \\lVert\\textbf{v}\\rVert^2 $.\n",
    "\n",
    "- A set of vectors $ \\{\\textbf{u}_1, \\textbf{u}_2, \\cdots, \\textbf{u}_p\\} $ is said to be an orthogonal set if any pair of distinct vectors $ \\textbf{u}_i $, $ \\textbf{u}_j $ are orthogonal, that is, $ \\textbf{u}_i \\cdot \\textbf{u}_j = \\textbf{0} $ whenever $ i \\ne j $.\n",
    "\n",
    "- Let $ \\{\\textbf{u}_1, \\textbf{u}_2, \\cdots, \\textbf{u}_p\\} $ be an orthogonal set of non-zero vectors in $ \\mathbb{R}^n $. Then the set $ \\{\\textbf{u}_1, \\textbf{u}_2, \\cdots, \\textbf{u}_p\\} $ is linearly independent. In particular, if $ p = n $ then the set $ \\{\\textbf{u}_1, \\textbf{u}_2, \\cdots, \\textbf{u}_n\\} $ is basis for $ \\mathbb{R}^n $.\n",
    "\n",
    "- A set of vectors $ \\{\\textbf{u}_1, \\textbf{u}_2, \\cdots, \\textbf{u}_p\\} $ is said to be an orthonormal set if it is an orthogonal set and if each vector $ \\textbf{u}_i $ in the set is a unit vector."
   ]
  },
  {
   "cell_type": "markdown",
   "metadata": {},
   "source": [
    "## Coordinates in an Orthonormal Basis\n",
    "\n",
    "Let $ \\textbf{B} = \\{\\textbf{u}_1, \\textbf{u}_2, \\cdots, \\textbf{u}_n \\} $ be an orthonormal basis for $ \\mathbb{R}^n $. The coordinate vector of $ \\textbf{x} $ in the basis $ \\textbf{B} $ is\n",
    "\n",
    "  $\n",
    "  \\textbf{x}_B =\n",
    "  \\begin{bmatrix}\n",
    "    \\textbf{u}_1 \\cdot \\textbf{x} \\\\\n",
    "    \\textbf{u}_2 \\cdot \\textbf{x} \\\\\n",
    "    \\vdots \\\\\n",
    "    \\textbf{u}_n \\cdot \\textbf{x}\n",
    "  \\end{bmatrix}\n",
    "  $"
   ]
  }
 ],
 "metadata": {
  "kernelspec": {
   "display_name": "Python 3 (ipykernel)",
   "language": "python",
   "name": "python3"
  },
  "language_info": {
   "codemirror_mode": {
    "name": "ipython",
    "version": 3
   },
   "file_extension": ".py",
   "mimetype": "text/x-python",
   "name": "python",
   "nbconvert_exporter": "python",
   "pygments_lexer": "ipython3",
   "version": "3.10.11"
  }
 },
 "nbformat": 4,
 "nbformat_minor": 4
}
