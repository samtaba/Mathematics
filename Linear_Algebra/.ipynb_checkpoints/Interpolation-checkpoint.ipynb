{
 "cells": [
  {
   "cell_type": "markdown",
   "metadata": {},
   "source": [
    "# Linear Interpolation\n",
    "\n",
    "## Polynomial Interpolation\n",
    "\n",
    "Given $ d+1 $ points $ (t_0, \\ y_0), \\ \\cdots \\ , (t_d, \\ y_d) $, polynomial interpolation is a polynomial of rank $ d $ that goes through all $ d + 1 $ points \n",
    "\n",
    "$ p(t) = c_0 + c_1 \\ t + \\cdots + c_d \\ t^d  \\ \\ \\ \\ | \\ \\ \\ \\ p(t_k) = y_k , \\ \\ \\ \\ k = 0, \\cdots, d $\n",
    "\n",
    "or\n",
    "\n",
    "$ p(t_0) = y_0 $\n",
    "\n",
    "$ p(t_1) = y_1 $\n",
    "\n",
    "$ \\vdots $\n",
    "\n",
    "$ p(t_d) = y_d $\n",
    "\n",
    "We can write the interpolation function at the various points as\n",
    "\n",
    "$ c_0 + c_1 t_0 + \\cdots + c_d t_0^d = y_0 $\n",
    "\n",
    "$ c_0 + c_1 t_1 + \\cdots + c_d t_1^d = y_1 $\n",
    "\n",
    "$ \\ \\ \\ \\ \\ \\ \\vdots $\n",
    "\n",
    "$ c_0 + c_1 t_d + \\cdots + c_d t_d^d = y_d $\n",
    "\n",
    "This can be written in matrix form $ \\textbf{Ac} = \\textbf{y} $\n",
    " \n",
    "$\n",
    "\\begin{bmatrix}\n",
    "\\ 1 & t_0 & \\cdots & t_0^d \\ \\\\\n",
    "\\ 1 & t_1 & \\cdots & t_1^d \\ \\\\\n",
    "\\vdots & \\vdots & \\ddots & \\vdots \\\\\n",
    "\\ 1 & t_d & \\cdots & t_d^d \\\n",
    "\\end{bmatrix}\n",
    "\\begin{bmatrix}\n",
    "c_0 \\\\\n",
    "c_1 \\\\\n",
    "\\vdots \\\\\n",
    "c_n\n",
    "\\end{bmatrix}\n",
    "    =\n",
    "\\begin{bmatrix}\n",
    "y_0 \\\\\n",
    "y_1 \\\\\n",
    "\\vdots \\\\\n",
    "y_d\n",
    "\\end{bmatrix}\n",
    "$\n",
    "\n",
    "The matrix $ \\textbf{A} $ is called the Vandermonde matrix.\n",
    "\n",
    "The Vandermonde matrix has a non-zero determinant given by\n",
    "\n",
    "$\n",
    "det(A) = \\displaystyle \\prod_{0\\le i < j \\le d}^{} (t_j - t_i)\n",
    "$\n",
    "\n",
    "This means the matrix $ A $ is invertible and there exists a unique polynomial $ p(t) $ of degree (at most) d such that \n",
    "\n",
    "$ p(t_k) = y_k , \\ \\ \\ \\ k = 0, \\cdots, d $\n",
    "\n",
    "or\n",
    "\n",
    "$ p(t_0) = y_0 $\n",
    "\n",
    "$ p(t_1) = y_1 $\n",
    "\n",
    "$ \\vdots $\n",
    "\n",
    "$ p(t_d) = y_d $"
   ]
  },
  {
   "cell_type": "markdown",
   "metadata": {},
   "source": [
    "### Example\n",
    "\n",
    "Interpolate through the following points using polynomial interpolation,\n",
    "\n",
    "$ (0, -1), (1, -1), (2, 1), (3, -1) $\n",
    "\n",
    "We have 4 points, which means we will need a polynomial of degree 3 so that it can pass through all 4 points"
   ]
  },
  {
   "cell_type": "code",
   "execution_count": 29,
   "metadata": {},
   "outputs": [
    {
     "data": {
      "text/plain": [
       "[]"
      ]
     },
     "execution_count": 29,
     "metadata": {},
     "output_type": "execute_result"
    },
    {
     "data": {
      "image/png": "[encoded data removed]",
      "text/plain": [
       "<Figure size 640x480 with 1 Axes>"
      ]
     },
     "metadata": {},
     "output_type": "display_data"
    }
   ],
   "source": [
    "import numpy as np\n",
    "import scipy.linalg as la\n",
    "import matplotlib.pyplot as plt\n",
    "\n",
    "x = [0, 1, 2, 3]\n",
    "y = [-1, -1, 1, -1]\n",
    "\n",
    "plt.scatter(x, y)\n",
    "\n",
    "plt.grid()\n",
    "\n",
    "plt.axhline(0, color='gray')\n",
    "plt.axvline(0, color='gray')\n",
    "\n",
    "plt.plot()"
   ]
  },
  {
   "cell_type": "markdown",
   "metadata": {},
   "source": [
    "So we need a cubic to fit the four points\n",
    "\n",
    "$ p(t) = c_0 + c_1 t + c_2 t + c_3 t^3 $\n",
    "\n",
    "Evaluate the polynomial at the four points:-\n",
    "\n",
    "$ p(0) = c_0 = -1 $\n",
    "\n",
    "$ p(1) = c_0 + c_1 \\times 1 + c_2 \\times 1^2 + c_3 \\times 1^3 = -1 $\n",
    "\n",
    "$ p(1) = c_0 + c_1 \\times 2 + c_2 \\times 2^2 + c_3 \\times 2^3 = 1 $\n",
    "\n",
    "$ p(1) = c_0 + c_1 \\times 3 + c_2 \\times 3^2 + c_3 \\times 3^3 = -1 $\n",
    "\n",
    "These become\n",
    "\n",
    "$ c_0 = -1 $\n",
    "\n",
    "$ c_0 + c_1 + c_2 + c_3 = -1 $\n",
    "\n",
    "$ c_0 + 2 c_1 + 4 c_2 + 8 c_3 = 1 $\n",
    "\n",
    "$ c_0 + 3 c_1 + 9 c_2 + 27 c_3 = -1 $\n",
    "\n",
    "In matrix form $ \\textbf{Ac = y} $\n",
    "\n",
    "  $\n",
    "  \\begin{bmatrix}\n",
    "  1 & 0 & 0 & 0 \\\\\n",
    "  1 & 1 & 1 & 1 \\\\\n",
    "  1 & 2 & 4 & 8 \\\\\n",
    "  1 & 3 & 9 & 27\n",
    "  \\end{bmatrix}\n",
    "  \\begin{bmatrix}\n",
    "  c_0 \\\\\n",
    "  c_1 \\\\\n",
    "  c_2 \\\\\n",
    "  c_3\n",
    "  \\end{bmatrix}\n",
    "      =\n",
    "  \\begin{bmatrix}\n",
    "  -1 \\\\\n",
    "  -1 \\\\\n",
    "  1 \\\\\n",
    "  -1\n",
    "  \\end{bmatrix}\n",
    "  $\n",
    "\n",
    " $ \\textbf{c} = \\textbf{A}^{-1}\\textbf{y} $"
   ]
  },
  {
   "cell_type": "code",
   "execution_count": 18,
   "metadata": {},
   "outputs": [
    {
     "data": {
      "text/plain": [
       "array([-1., -3.,  4., -1.])"
      ]
     },
     "execution_count": 18,
     "metadata": {},
     "output_type": "execute_result"
    }
   ],
   "source": [
    "A = np.array([[1, 0, 0, 0], [1, 1, 1, 1], [1, 2, 4, 8], [1, 3, 9, 27]])\n",
    "\n",
    "y = np.array([-1, -1, 1, -1])\n",
    "\n",
    "c = la.inv(A) @ y \n",
    "\n",
    "c"
   ]
  },
  {
   "cell_type": "markdown",
   "metadata": {},
   "source": [
    "$\n",
    "\\implies \n",
    "c=\n",
    "\\begin{bmatrix}\n",
    "-1 \\\\\n",
    "-3 \\\\\n",
    "4 \\\\\n",
    "-1\n",
    "\\end{bmatrix}\n",
    "$\n",
    "\n",
    "$\n",
    "\\implies\n",
    "p(t) = -1 - 3t + 4t^2 - t^3\n",
    "$\n",
    "\n",
    "Plot to ensure polynomial goes through the data points\n"
   ]
  },
  {
   "cell_type": "code",
   "execution_count": 28,
   "metadata": {},
   "outputs": [
    {
     "data": {
      "image/png": "[encoded data removed]",
      "text/plain": [
       "<Figure size 640x480 with 1 Axes>"
      ]
     },
     "metadata": {},
     "output_type": "display_data"
    }
   ],
   "source": [
    "f = lambda x: -1-3*x + 4 * x**2 - x**3\n",
    "\n",
    "x = np.linspace(-1, 3, 100)\n",
    "\n",
    "plt.plot(x, f(x))\n",
    "\n",
    "x = [0, 1, 2, 3]\n",
    "y = [-1, -1, 1, -1]\n",
    "\n",
    "plt.scatter(x, y)\n",
    "\n",
    "plt.grid()\n",
    "plt.axhline(0, color='gray')\n",
    "plt.axvline(0, color='gray')\n",
    "\n",
    "plt.title(\"Interpolation Polynomial\")\n",
    "plt.xlabel(\"x\")\n",
    "plt.ylabel(\"p(x)\")\n",
    "plt.show()"
   ]
  },
  {
   "cell_type": "markdown",
   "metadata": {},
   "source": [
    "## Cubic Spline Interpolation\n",
    "\n"
   ]
  }
 ],
 "metadata": {
  "kernelspec": {
   "display_name": "Python 3 (ipykernel)",
   "language": "python",
   "name": "python3"
  },
  "language_info": {
   "codemirror_mode": {
    "name": "ipython",
    "version": 3
   },
   "file_extension": ".py",
   "mimetype": "text/x-python",
   "name": "python",
   "nbconvert_exporter": "python",
   "pygments_lexer": "ipython3",
   "version": "3.10.11"
  }
 },
 "nbformat": 4,
 "nbformat_minor": 4
}
