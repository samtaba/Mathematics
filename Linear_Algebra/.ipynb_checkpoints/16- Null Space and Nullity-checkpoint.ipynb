{
 "cells": [
  {
   "cell_type": "markdown",
   "metadata": {},
   "source": [
    "## Null Space and Nullity of a Matrix\n",
    "\n",
    "All vectors $ \\textbf{x} $ satisfying the equation $ \\textbf{Ax = 0} $ make up the null space of $ \\textbf{A} $.\n",
    "\n",
    "To find the null space:\n",
    "\n",
    "- Convert the equation $ \\textbf{Ax = 0} $ into matrix augmented form\n",
    "\n",
    "- Reduce the matrix $ \\textbf{A} $ to RREF\n",
    "\n",
    "- Then create an augmented matrix by combining it with the $ \\textbf{0} $ vector\n",
    "\n",
    "- Solve for leading variables\n",
    "\n",
    "- Deconstruct the resulting vector into basis vectors, these are the basis vectors for null space. They are linearly independent set of vectors which span the null space."
   ]
  },
  {
   "cell_type": "markdown",
   "metadata": {},
   "source": [
    "### Example 1:\n",
    "\n",
    "Find the null space of the matrix\n",
    "\n",
    "$\n",
    "\\begin{bmatrix}\n",
    "1 & 2 & 1 \\\\\n",
    "0 & -1 & 1 \\\\\n",
    "2 & 3 & 3\n",
    "\\end{bmatrix}\n",
    "$\n",
    "\n",
    "**Solution:**\n",
    "\n",
    "The null space is the space of all vectors $ \\textbf{x} $ that satisfy the equation $ \\textbf{Ax = 0} $.\n",
    "\n",
    "Convert his equation into augmented form,\n",
    "\n",
    "$\n",
    "\\begin{bmatrix}\n",
    "1 & 2 & 1 & | 0\\\\\n",
    "0 & -1 & 1 & | 0 \\\\\n",
    "2 & 3 & 3 & | 0\n",
    "\\end{bmatrix}\n",
    "$\n",
    "\n",
    "Now find RREF of this augmented matrix,"
   ]
  },
  {
   "cell_type": "code",
   "execution_count": 3,
   "metadata": {},
   "outputs": [
    {
     "name": "stdout",
     "output_type": "stream",
     "text": [
      "[[1 0 3 0]\n",
      " [0 1 -1 0]\n",
      " [0 0 0 0]]\n"
     ]
    }
   ],
   "source": [
    "import numpy as np\n",
    "from sympy import Matrix\n",
    "\n",
    "A = np.array([[1, 2, 1, 0], [0, -1, 1, 0], [2, 3, 3, 0]]);\n",
    "\n",
    "# Convert to sympy matrix\n",
    "Mat = Matrix(A)\n",
    "\n",
    "# Get RREF (Reduced Row Echelon Form)\n",
    "RREF = Mat.rref()[0]\n",
    "\n",
    "print(np.array(RREF))"
   ]
  },
  {
   "cell_type": "markdown",
   "metadata": {},
   "source": [
    "The RREF implies the following \n",
    "\n",
    "$\n",
    "\\begin{bmatrix}\n",
    "1 & 0 & 3 \\\\\n",
    "0 & 1 & -1 \\\\\n",
    "0 & 0 & 0\n",
    "\\end{bmatrix}\n",
    "\\begin{bmatrix}\n",
    "x \\\\\n",
    "y \\\\\n",
    "z\n",
    "\\end{bmatrix}\n",
    "    =\n",
    "\\begin{bmatrix}\n",
    "0 \\\\\n",
    "0 \\\\\n",
    "0\n",
    "\\end{bmatrix}\n",
    "$\n",
    "\n",
    "Let's solve \n",
    "\n",
    "$ x + 3z = 0 \\implies x = -3z $\n",
    "\n",
    "$ y = z $\n",
    "\n",
    "Therefore we can write the solution as\n",
    "\n",
    "$\n",
    "t\n",
    "\\begin{bmatrix}\n",
    "-3 \\\\\n",
    "1 \\\\\n",
    "1\n",
    "\\end{bmatrix}\n",
    "$\n",
    "\n",
    "Therefore \n",
    "\n",
    "$ null(A) =\n",
    "span{\n",
    "\\begin{bmatrix}\n",
    "-3 \\\\\n",
    "1 \\\\\n",
    "1\n",
    "\\end{bmatrix}\n",
    "}\n",
    "$\n",
    "\n",
    "We can check this by using Python and SymPy"
   ]
  },
  {
   "cell_type": "code",
   "execution_count": 4,
   "metadata": {},
   "outputs": [
    {
     "name": "stdout",
     "output_type": "stream",
     "text": [
      "Null Space :  Matrix([[-3], [1], [1]])\n"
     ]
    }
   ],
   "source": [
    "from sympy import Matrix \n",
    "  \n",
    "# List A  \n",
    "A = [[1, 2, 1], [0, -1, 1], [2, 3, 3]]\n",
    "  \n",
    "# Matrix A \n",
    "A = Matrix(A) \n",
    "  \n",
    "# Null Space of A \n",
    "NullSpace = A.nullspace()   # Here NullSpace is a list \n",
    "  \n",
    "NullSpace = Matrix(NullSpace)   # Here NullSpace is a Matrix \n",
    "\n",
    "print(\"Null Space : \", NullSpace) \n",
    "  \n",
    "# checking whether NullSpace satisfies the \n",
    "# given condition or not as A * NullSpace = 0 \n",
    "# if NullSpace is null space of A \n",
    "# print(A * NullSpace) "
   ]
  },
  {
   "cell_type": "markdown",
   "metadata": {},
   "source": [
    "## Nullity of a Matrix\n",
    "\n",
    "The number of null space basis vectors is the nullity of the matrix $ \\textbf{A} $, written as $ \\textbf{nullity(A)} $\n",
    "\n",
    "In the previous example, the matrix has only one vector in the null space, therefore the nullity of the matrix is 1."
   ]
  }
 ],
 "metadata": {
  "kernelspec": {
   "display_name": "Python 3 (ipykernel)",
   "language": "python",
   "name": "python3"
  },
  "language_info": {
   "codemirror_mode": {
    "name": "ipython",
    "version": 3
   },
   "file_extension": ".py",
   "mimetype": "text/x-python",
   "name": "python",
   "nbconvert_exporter": "python",
   "pygments_lexer": "ipython3",
   "version": "3.10.11"
  }
 },
 "nbformat": 4,
 "nbformat_minor": 4
}
