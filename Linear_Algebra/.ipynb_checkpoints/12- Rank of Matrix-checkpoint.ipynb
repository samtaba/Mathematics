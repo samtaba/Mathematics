{
 "cells": [
  {
   "cell_type": "markdown",
   "metadata": {},
   "source": [
    "## Rank Theorem\n",
    "\n",
    "- The rank of a matrix $ \\textbf{A} $ is the dimension of its column space. We will use $ rank(\\textbf{A}) $ to denote the rank of $ \\textbf{A} $\n",
    "\n",
    "- The nullity of a matrix $ \\textbf{A} $ is the dimension of its null space $ Null(A) $. We will use $ nullity(\\textbf{A}) $ to denote the nullity of $ \\textbf{A} $.\n",
    "\n",
    "- (Rank Theorem) Let $ \\textbf{A} $ be a $ m \\times n $ matrix. The rank of $ \\textbf{A} $ is the number of leading 1's in its RREF. Moreover, the following equation holds:\n",
    "\n",
    "  $ n = rank(\\textbf{A}) + nullity(\\textbf{A}) $\n",
    "\n",
    "- Let $ \\textbf{A} $ be a $ n \\times n $ matrix. The following statements are equivalent:\n",
    "  \n",
    "  - The columns of $ \\textbf{A} $ form a basis for $ \\mathbb{R}^n $\n",
    "    \n",
    "  - $ Col(\\textbf{A}) = \\mathbb{R}^n $\n",
    "    \n",
    "  - $ rank(\\textbf{A}) = n $\n",
    "    \n",
    "  - $ Null(\\textbf{A}) = {0} $\n",
    "    \n",
    "  - $ nullity(\\textbf{A}) = 0 $\n",
    "    \n",
    "  - $ A $ is an invertible matrix"
   ]
  },
  {
   "cell_type": "markdown",
   "metadata": {},
   "source": [
    "## Rank of Matrix\n",
    "\n",
    "The rank of a matrix is the number of linearly independent rows, or equivalently, the number of linearly independent columns.\n",
    "\n",
    "- The rank of a matrix is always positive, except for a zero matrix which has a rank of zero.\n",
    "\n",
    "- The rank of a matrix can be found using three methods. The most easiest of these methods is \"converting matrix into echelon form\".\n",
    "\n",
    "  - Using row echelon form\n",
    "  - Using normal form\n",
    "  - Minor method\n",
    "\n",
    "### Rank of Matrix using row echelon form\n",
    "\n",
    "The rank of the matrix will be equal to the number of linearly independent rows of the row echelon form of this matrix.\n",
    "\n",
    "#### Example 1\n",
    "\n",
    "Calculate the rank of the following matrix\n",
    "\n",
    "$\n",
    "\\begin{bmatrix}\n",
    "2 & -1 & 0 \\\\\n",
    "1 & 2 & 1 \\\\\n",
    "1 & 3 & 1\n",
    "\\end{bmatrix}\n",
    "$\n",
    "\n"
   ]
  },
  {
   "cell_type": "code",
   "execution_count": 1,
   "metadata": {},
   "outputs": [
    {
     "name": "stdout",
     "output_type": "stream",
     "text": [
      "[[2 -1 0]\n",
      " [0 5 2]\n",
      " [0 0 -4]] \n",
      "\n"
     ]
    }
   ],
   "source": [
    "import numpy as np\n",
    "from sympy import Matrix\n",
    "\n",
    "A = np.array([[2, -1, 0], [1, 2, 1], [1, 3, 1]]);\n",
    "\n",
    "# Convert to sympy matrix\n",
    "A_Mat = Matrix(A)\n",
    "\n",
    "# Get REF (Row Echelon Form)\n",
    "REF = A_Mat.echelon_form()\n",
    "\n",
    "print(np.array(REF), '\\n')"
   ]
  },
  {
   "cell_type": "markdown",
   "metadata": {},
   "source": [
    "$\n",
    "\\begin{bmatrix}\n",
    "2 & -1 & 0 \\\\\n",
    "0 & 5 & 2 \\\\\n",
    "0 & 0 & -4\n",
    "\\end{bmatrix}\n",
    "$\n",
    "\n",
    "The resulting row echelon matrix has 3 non-zero rows (and columns), this means the rank of this matrix is 3.\n",
    "\n",
    "#### Example 2\n",
    "\n",
    "Calculate the rank of this matrix\n",
    "\n",
    "$\n",
    "\\begin{bmatrix}\n",
    "1 & 2 & 1 \\\\\n",
    "-2 & -3 & 1 \\\\\n",
    "3 & 5 & 0 \\\\\n",
    "2 & 4 & 2\n",
    "\\end{bmatrix}\n",
    "$\n",
    "\n"
   ]
  },
  {
   "cell_type": "code",
   "execution_count": 2,
   "metadata": {},
   "outputs": [
    {
     "name": "stdout",
     "output_type": "stream",
     "text": [
      "[[1 2 1]\n",
      " [0 1 3]\n",
      " [0 0 0]\n",
      " [0 0 0]] \n",
      "\n"
     ]
    }
   ],
   "source": [
    "import numpy as np\n",
    "from sympy import Matrix\n",
    "\n",
    "A = np.array([[1, 2, 1], [-2, -3, 1], [3, 5, 0], [2, 4, 2]]);\n",
    "\n",
    "# Convert to sympy matrix\n",
    "A_Mat = Matrix(A)\n",
    "\n",
    "# Get REF (Row Echelon Form)\n",
    "REF = A_Mat.echelon_form()\n",
    "\n",
    "print(np.array(REF), '\\n')"
   ]
  },
  {
   "cell_type": "markdown",
   "metadata": {},
   "source": [
    "$\n",
    "\\begin{bmatrix}\n",
    "1 & 2 & 1 \\\\\n",
    "0 & 1 & 3 \\\\\n",
    "0 & 0 & 0 \\\\\n",
    "0 & 0 & 0\n",
    "\\end{bmatrix}\n",
    "$\n",
    "\n",
    "There are 2 independent rows non-zero rows, therefore the rank of the matrix is 2.\n",
    "\n",
    "#### Example 3\n",
    "\n",
    "Evaluate the rank of the following matrix\n",
    "\n",
    "$\n",
    "\\begin{bmatrix}\n",
    "1 & 2 & 3 \\\\\n",
    "2 & 3 & 5 \\\\\n",
    "3 & 4 & 7 \\\\\n",
    "4 & 5 & 9\n",
    "\\end{bmatrix}\n",
    "$\n",
    "\n",
    "We can see that column 1 and 2 are linearly independent. However, column 3 is the sum of both 1 and 2. Therefore since there are only two linearly independent columns, the rank of the matrix is 2."
   ]
  }
 ],
 "metadata": {
  "kernelspec": {
   "display_name": "Python 3 (ipykernel)",
   "language": "python",
   "name": "python3"
  },
  "language_info": {
   "codemirror_mode": {
    "name": "ipython",
    "version": 3
   },
   "file_extension": ".py",
   "mimetype": "text/x-python",
   "name": "python",
   "nbconvert_exporter": "python",
   "pygments_lexer": "ipython3",
   "version": "3.10.11"
  }
 },
 "nbformat": 4,
 "nbformat_minor": 4
}
