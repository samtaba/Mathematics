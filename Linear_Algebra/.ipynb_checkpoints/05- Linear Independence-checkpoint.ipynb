{
 "cells": [
  {
   "cell_type": "markdown",
   "metadata": {},
   "source": [
    "## Linear Independence\n",
    "\n",
    "- The set of vectors $ \\{\\textbf{v}_1, \\textbf{v}_2, ... , \\textbf{v}_n\\} $ is linearly independent if and only if $ \\textbf{0} $ can be written in only one way as a linear combination of $ \\{\\textbf{v}_1, \\textbf{v}_2, ..., \\textbf{v}_n\\} $. In other words, if \n",
    "  \n",
    "  $ t_1\\textbf{v}_1 + t_2 \\textbf{v}_2 + ···+ t_n \\textbf{v}_n = \\textbf{0} $ \n",
    "  \n",
    "  then necessarily the coefficients $ t_1, t_2, ..., t_n $ are all zero.\n",
    "  \n",
    "- A set of vectors $ \\{\\textbf{v}_1, \\textbf{v}_2, ..., \\textbf{v}_n\\} $ is said to be linearly dependent if some $ \\textbf{v}_j $ can be written as a linear combination of the other vectors, that is, if $ \\textbf{v}_j \\in span\\{ \\textbf{v}_1, ..., \\textbf{v}_{j−1}, \\textbf{v}_{j+1}, ..., \\textbf{v}_n \\} $. \n",
    "\n",
    "  If $ \\textbf{v}_1, \\textbf{v}_2, ..., \\textbf{v}_n $ is not linearly dependent then we say that $ \\textbf{v}_1, \\textbf{v}_2, ..., \\textbf{v}_n $ is linearly independent.\n",
    "\n",
    "- The set $ \\{\\textbf{v}_1, \\textbf{v}_2, ..., \\textbf{v}_n\\} $ is linearly independent if and only if the the rank of $ \\textbf{A} $ is $ r = n $, that is, if the number of leading entries $ r $ in the REF (or RREF) of $ \\textbf{A} $ is exactly $ n $."
   ]
  },
  {
   "cell_type": "markdown",
   "metadata": {},
   "source": [
    "### Example 1\n",
    "\n",
    "Show the following vectors are linearly dependent \n",
    "\n",
    "$ \n",
    "\\textbf{v}_1 =\n",
    "\\begin{bmatrix}\n",
    "\\ 1 \\ \\\\\n",
    "\\ 2 \\ \\\\\n",
    "\\ 3 \\\n",
    "\\end{bmatrix}\n",
    "\\ \\ \\ \\\n",
    "\\textbf{v}_2 =\n",
    "\\begin{bmatrix}\n",
    "\\ 4 \\ \\\\\n",
    "\\ 5 \\ \\\\\n",
    "\\ 6 \\\n",
    "\\end{bmatrix}\n",
    "\\ \\ \\ \\\n",
    "\\textbf{v}_3 =\n",
    "\\begin{bmatrix}\n",
    "\\ 2 \\ \\\\\n",
    "\\ 1 \\ \\\\\n",
    "\\ 0 \\\n",
    "\\end{bmatrix}\n",
    "$\n",
    "\n",
    "Solution: \n",
    "\n",
    "Since a vector is linearly dependent if it can be written as a linear combination of the other vectors in the same set $ \\textbf{v}_j \\in span\\{ \\textbf{v}_1, ..., \\textbf{v}_{j−1}, \\textbf{v}_{j+1}, ..., \\textbf{v}_n \\} $. We simply need to show one of the vectors can be set as a linear combination of the other vectors.\n",
    "\n",
    "We can visually see that\n",
    "\n",
    "$ \n",
    "\\textbf{v}_2 = 2\\textbf{v}_1 + \\textbf{v}_3\n",
    "    = 2  \n",
    "\\begin{bmatrix}\n",
    "\\ 1 \\ \\\\\n",
    "\\ 2 \\ \\\\\n",
    "\\ 3 \\\n",
    "\\end{bmatrix}\n",
    "+\n",
    "\\begin{bmatrix}\n",
    "\\ 2 \\ \\\\\n",
    "\\ 1 \\ \\\\\n",
    "\\ 0 \\\n",
    "\\end{bmatrix}\n",
    "    =\n",
    "\\begin{bmatrix}\n",
    "\\ 4 \\ \\\\\n",
    "\\ 5 \\ \\\\\n",
    "\\ 6 \\\n",
    "\\end{bmatrix}    \n",
    "$\n",
    "\n",
    "Therefore, since $ \\textbf{v}_2 \\in span \\{ \\textbf{v}_1, \\textbf{v}_3 \\} $ then the vectors $ \\{ \\textbf{v}_1, \\textbf{v}_2, \\textbf{v}_3 \\} $ are linearly dependent"
   ]
  },
  {
   "cell_type": "markdown",
   "metadata": {},
   "source": [
    "### Example 2\n",
    "\n",
    "Verify whether the set $ \\{ \\textbf{u}, \\textbf{v}, \\textbf{w} \\} $ is linearly independent.\n",
    "\n",
    "$ \n",
    "\\textbf{u} =\n",
    "\\begin{bmatrix}\n",
    "\\ 1 \\ \\\\\n",
    "\\ 1 \\ \\\\\n",
    "\\ 0 \\\n",
    "\\end{bmatrix}\n",
    "\\ \\ \\ \\\n",
    "\\textbf{v} =\n",
    "\\begin{bmatrix}\n",
    "\\ 1 \\ \\\\\n",
    "\\ 0 \\ \\\\\n",
    "\\ 1 \\\n",
    "\\end{bmatrix}\n",
    "\\ \\ \\ \\\n",
    "\\textbf{v} =\n",
    "\\begin{bmatrix}\n",
    "\\ 0 \\ \\\\\n",
    "\\ 1 \\ \\\\\n",
    "\\ 1 \\\n",
    "\\end{bmatrix}\n",
    "$\n",
    "\n",
    "**Solution :**\n",
    "\n",
    "Suppose we have a linear combination \n",
    "\n",
    "$ a \\textbf{u} + b \\textbf{v} + c \\textbf{w} = \\textbf{0} $\n",
    "\n",
    "We need to show that this is only true if $ a=0 $, $ b=0 $ and $ c=0 $\n",
    "\n",
    "We do this by forming this column matrix\n",
    "\n",
    "$\n",
    "A = \n",
    "\\begin{bmatrix}\n",
    "1 & 1 & 0 \\\\\n",
    "1 & 0 & 1 \\\\\n",
    "0 & 1 & 1 \n",
    "\\end{bmatrix}\n",
    "$\n",
    "\n",
    "and show that $ \\textbf{Ax} = \\textbf{0} $\n",
    "\n",
    "only has the trivial solution."
   ]
  },
  {
   "cell_type": "code",
   "execution_count": 1,
   "metadata": {},
   "outputs": [
    {
     "name": "stdout",
     "output_type": "stream",
     "text": [
      "[[ 0.5  0.5 -0.5]\n",
      " [ 0.5 -0.5  0.5]\n",
      " [-0.5  0.5  0.5]]\n"
     ]
    }
   ],
   "source": [
    "import numpy as np\n",
    "import scipy as sp\n",
    "\n",
    "\n",
    "# create the matrix\n",
    "A = np.array([[1, 1, 0], [1, 0, 1], [0, 1, 1]]);\n",
    "\n",
    "\n",
    "# find inverse using scipy\n",
    "print(sp.linalg.inv(A))"
   ]
  },
  {
   "cell_type": "markdown",
   "metadata": {},
   "source": [
    "### The maximum size of a linearly independent set\n",
    "\n",
    "Let $ \\textbf{v}_1, \\textbf{v}_2, ..., \\textbf{v}_p $ be a set of vectors in $ \\mathbb{R}^n $. If $ p > n $ then $ \\textbf{v}_1, \\textbf{v}_2, ..., \\textbf{v}_p $ are linearly dependent. Equivalently, if the vectors $ \\textbf{v}_1, \\textbf{v}_2, ..., \\textbf{v}_p $ in $ \\mathbb{R}^n $ are linearly independent then $ p ≤ n $."
   ]
  }
 ],
 "metadata": {
  "kernelspec": {
   "display_name": "Python 3 (ipykernel)",
   "language": "python",
   "name": "python3"
  },
  "language_info": {
   "codemirror_mode": {
    "name": "ipython",
    "version": 3
   },
   "file_extension": ".py",
   "mimetype": "text/x-python",
   "name": "python",
   "nbconvert_exporter": "python",
   "pygments_lexer": "ipython3",
   "version": "3.10.11"
  }
 },
 "nbformat": 4,
 "nbformat_minor": 4
}
