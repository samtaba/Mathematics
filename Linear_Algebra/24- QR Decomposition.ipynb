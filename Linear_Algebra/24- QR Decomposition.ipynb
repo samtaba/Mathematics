{
 "cells": [
  {
   "cell_type": "markdown",
   "metadata": {},
   "source": [
    "## QR Decomposition\n",
    "\n",
    "The $ \\textbf{QR} $ decomposition allows us to express a matrix having linearly independent columns as the product of \n",
    "\n",
    "- a matrix $ \\textbf{Q} $ having orthonormal columns and \n",
    "- an upper triangular matrix $ \\textbf{R} $\n",
    "\n",
    "$ \\textbf{A} = \\textbf{QR} $\n",
    "\n",
    "The Gram-Schmidt process is a procedure used to transform a set of linearly independent vectors into a set of orthonormal vectors.\n",
    "\n",
    "In the case of a matrix $ \\textbf{A} $, denote its columns $ \\textbf{A}_1, \\textbf{A}_2, \\cdots, \\textbf{A}_k $. If these columns are linearly independent, they can be transformed into a set of orthonormal column vectors $ \\textbf{Q}_1, \\textbf{Q}_2, \\cdots, \\textbf{Q}_k $ by using the Gram-Schmidt process"
   ]
  },
  {
   "cell_type": "code",
   "execution_count": 26,
   "metadata": {},
   "outputs": [
    {
     "name": "stdout",
     "output_type": "stream",
     "text": [
      "[[ 12 -51   4]\n",
      " [  6 167 -68]\n",
      " [ -4  24 -41]] \n",
      "\n",
      "[[-0.85714286  0.39428571  0.33142857]\n",
      " [-0.42857143 -0.90285714 -0.03428571]\n",
      " [ 0.28571429 -0.17142857  0.94285714]] \n",
      "\n",
      "[[ -14.  -21.   14.]\n",
      " [   0. -175.   70.]\n",
      " [   0.    0.  -35.]] \n",
      "\n",
      "[[ 12. -51.   4.]\n",
      " [  6. 167. -68.]\n",
      " [ -4.  24. -41.]]\n"
     ]
    }
   ],
   "source": [
    "A = np.array([[12, -51, 4], [6, 167, -68], [-4, 24, -41]])\n",
    "Q, R = sp.linalg.qr(A)\n",
    "\n",
    "print(A, '\\n')\n",
    "\n",
    "print(Q, '\\n')\n",
    "\n",
    "print(R, '\\n')\n",
    "\n",
    "print(Q @ R)"
   ]
  }
 ],
 "metadata": {
  "kernelspec": {
   "display_name": "Python 3 (ipykernel)",
   "language": "python",
   "name": "python3"
  },
  "language_info": {
   "codemirror_mode": {
    "name": "ipython",
    "version": 3
   },
   "file_extension": ".py",
   "mimetype": "text/x-python",
   "name": "python",
   "nbconvert_exporter": "python",
   "pygments_lexer": "ipython3",
   "version": "3.10.11"
  }
 },
 "nbformat": 4,
 "nbformat_minor": 4
}
