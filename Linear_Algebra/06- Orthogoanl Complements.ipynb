{
 "cells": [
  {
   "cell_type": "markdown",
   "metadata": {},
   "source": [
    "## Orthogonal Complements\n",
    "\n",
    "If $ W $ is a subspace of a real inner product space $ V $, then the set of all vectors in $ V $ that are orthogonal to every vector in $ W $ is denoted $ W^\\perp $ and called the orthogonal complement of $ W $.\n",
    "\n",
    "**Theorem:**\n",
    "\n",
    "If $ W $ is a subspace of a real inner product space $ V $, then\n",
    "\n",
    "a) $ W^\\perp $ is a subspace of $ V $\n",
    "\n",
    "b) $ W \\cap W^\\perp = \\{\\textbf{0}\\} \\ \\ \\ \\ $  (The orthogonal complement of the row space $ W $ is the null space)\n",
    "\n",
    "**Theorem:**\n",
    "\n",
    "If $ W $ is a subspace of a real finite-dimensional inner product space $ V $, then the orthogonal complement of $ W^\\perp $ is $ W $\n",
    "\n",
    "$ (W^\\perp)^\\perp = W $"
   ]
  },
  {
   "cell_type": "markdown",
   "metadata": {},
   "source": [
    "### Example\n",
    "\n",
    "Find the basis for the orthogonal complement of the subspace of $ \\R^5 $ spanned by\n",
    "\n",
    "$ \n",
    "\\textbf{W}_1 = \n",
    "\\begin{bmatrix}\n",
    "1 \\\\\n",
    "-2 \\\\\n",
    "2 \\\\\n",
    "3 \\\\\n",
    "-1\n",
    "\\end{bmatrix}\n",
    "\\ \\ \\ \\\n",
    "\\textbf{W}_2 = \n",
    "\\begin{bmatrix}\n",
    "-3 \\\\\n",
    "6 \\\\\n",
    "-1 \\\\\n",
    "1 \\\\\n",
    "-7\n",
    "\\end{bmatrix}\n",
    "\\ \\ \\ \\\n",
    "\\textbf{W}_3 = \n",
    "\\begin{bmatrix}\n",
    "2 \\\\\n",
    "-4 \\\\\n",
    "5 \\\\\n",
    "8 \\\\\n",
    "-4\n",
    "\\end{bmatrix}\n",
    "$\n",
    "\n",
    "**Solution:**\n",
    "\n",
    "Form the matrix $ W $ such that its rows is the above vectors\n",
    "\n",
    "$ \n",
    "\\begin{bmatrix}\n",
    "1 & -2 & 2 & 3 & -1 \\\\\n",
    "-3 & 6 & -1 & 1 & -7 \\\\\n",
    "2 & -4 & 5 & 8 & -4\n",
    "\\end{bmatrix}\n",
    "$\n",
    "\n",
    "The orthogonal complement of the row space of $ W $ is the null space $ null(W) $\n"
   ]
  },
  {
   "cell_type": "code",
   "execution_count": 7,
   "metadata": {},
   "outputs": [
    {
     "name": "stdout",
     "output_type": "stream",
     "text": [
      "[Matrix([\n",
      "[2],\n",
      "[1],\n",
      "[0],\n",
      "[0],\n",
      "[0]]), Matrix([\n",
      "[ 1],\n",
      "[ 0],\n",
      "[-2],\n",
      "[ 1],\n",
      "[ 0]]), Matrix([\n",
      "[-3],\n",
      "[ 0],\n",
      "[ 2],\n",
      "[ 0],\n",
      "[ 1]])]\n"
     ]
    }
   ],
   "source": [
    "import numpy as np\n",
    "from sympy import Matrix\n",
    "\n",
    "  \n",
    "# List A  \n",
    "A = np.array([[1, -2, 2, 3, -1], [-3, 6, -1, 1, -7], [2, -4, 5, 8, -4]]);\n",
    "  \n",
    "# Matrix A \n",
    "A = Matrix(A) \n",
    "  \n",
    "# Null Space of A \n",
    "NullSpace = A.nullspace()   # Here NullSpace is a list \n",
    "\n",
    "print(NullSpace)"
   ]
  },
  {
   "cell_type": "markdown",
   "metadata": {},
   "source": [
    "Therefore, the orthogonal complement of the subspace of $ \\R^5 $ spanned by $ W_1 $, $ W_2 $, and $ W_3 $ consists of the following basis vectors\n",
    "\n",
    "$ \n",
    "\\begin{bmatrix}\n",
    "2 \\\\\n",
    "1 \\\\\n",
    "0 \\\\\n",
    "0 \\\\\n",
    "0\n",
    "\\end{bmatrix}\n",
    ", \\ \\ \\\n",
    "\\begin{bmatrix}\n",
    "1 \\\\\n",
    "0 \\\\\n",
    "-2 \\\\\n",
    "1 \\\\\n",
    "0\n",
    "\\end{bmatrix}\n",
    ", \\ \\ \\\n",
    "\\begin{bmatrix}\n",
    "-3 \\\\\n",
    "0 \\\\\n",
    "2 \\\\\n",
    "0 \\\\\n",
    "1\n",
    "\\end{bmatrix}\n",
    "$"
   ]
  }
 ],
 "metadata": {
  "kernelspec": {
   "display_name": "Python 3 (ipykernel)",
   "language": "python",
   "name": "python3"
  },
  "language_info": {
   "codemirror_mode": {
    "name": "ipython",
    "version": 3
   },
   "file_extension": ".py",
   "mimetype": "text/x-python",
   "name": "python",
   "nbconvert_exporter": "python",
   "pygments_lexer": "ipython3",
   "version": "3.10.11"
  }
 },
 "nbformat": 4,
 "nbformat_minor": 4
}
