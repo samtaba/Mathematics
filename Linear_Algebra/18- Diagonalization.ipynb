{
 "cells": [
  {
   "cell_type": "markdown",
   "metadata": {},
   "source": [
    "## Diagonalisation\n",
    "\n",
    "- If $ \\textbf{A} $ is an $ n \\times n $ matrix, then $ \\textbf{A} $ is diagonalizable if and only if $ \\textbf{A} $ has $ n $ linearly independent eigenvectors.\n",
    "\n",
    "- If $ \\textbf{A} $ is an $ n \\times n $ matrix, with $ n $ distinct eigenvalues $ \\lambda_1, \\lambda_2, \\dots, \\lambda_n $. Then $ \\textbf{A} $ is diagonalizable.\n",
    "\n",
    "- $ \\textbf{A} $ is diagonalizable if and only if the geometric multiplicity of every eigenvalue is equal to its algebraic multiplicity.\n",
    "\n",
    "\n",
    "A matrix $ \\textbf{A} $ is called diagonalizable (off-diagonal entries are all zero) if it is similar to a diagonal matrix $ \\textbf{D} $, and there exists an invertible $ \\textbf{P} $ such that $ \\textbf{D} = \\textbf{P}^{−1}\\textbf{A}\\textbf{P} $ is a diagonal matrix. Conversely, $ \\textbf{A} = \\textbf{P}\\textbf{D}\\textbf{P}^{−1} $\n",
    "\n",
    "The diagonal matrix $ \\textbf{D} $ entries are the eigenvalues of matrix $ \\textbf{A} $. The columns of matrix $ \\textbf{P} $ are the eigenvectors of matrix $ \\textbf{A} $."
   ]
  },
  {
   "cell_type": "markdown",
   "metadata": {},
   "source": [
    "### Theorem\n",
    "\n",
    "If $ \\textbf{A} $ is an $ n \\times n $ matrix, then $ \\textbf{A} $ is diagonalizable if and only if $ \\textbf{A} $ has n linearly independent eigenvectors.\n",
    "\n",
    "**Proof**\n",
    "\n",
    "Assume $ \\textbf{A} $ is diagonalizable\n",
    "\n",
    "$ \\textbf{P}^{-1}\\textbf{A}\\textbf{P} = \\textbf{D} $\n",
    "\n",
    "$ \\Rightarrow \\textbf{A}\\textbf{P} = \\textbf{P}\\textbf{D} \\ \\ \\ \\ \\ \\ \\ [1]$\n",
    "\n",
    "Let $ \\ \\textbf{p}_1, \\ \\textbf{p}_2, \\ \\dots, \\ \\textbf{p}_n \\ $ denote the column vectors of $ \\textbf{P} $.\n",
    "\n",
    "Let $ \\lambda_1, \\lambda_2, \\dots, \\lambda_n $ denote the diagonal entries of $ \\textbf{D} $. But since the diagonal elements of a diagonal matrix are also its eigenvalues, then $ \\lambda_1, \\lambda_2, \\dots, \\lambda_n $ are also the eigenvalues of $ \\textbf{D} $.\n",
    "\n",
    "By the similarity principle, the eigenvalues of $ \\textbf{D} = \\textbf{P}^{−1}\\textbf{A}\\textbf{P} $ are also the eigevalues of $ \\textbf{A} $.\n",
    "\n",
    "Now we can write equation [1] as\n",
    "\n",
    "$ \\textbf{AP} = \\textbf{A}[\\textbf{p}_1, \\textbf{p}_2, \\dots, \\textbf{p}_n] $\n",
    "\n",
    "and\n",
    "\n",
    "$ \\textbf{PD} = [\\lambda_1 \\textbf{p}_1, \\lambda_2\\textbf{p}_2, \\dots, \\lambda_n\\textbf{p}_n] $\n",
    "\n",
    "Thus we can write \n",
    "\n",
    "$ \\textbf{A}\\textbf{p}_1 = \\lambda_1 \\textbf{p}_1 $, $\\ \\ \\textbf{A}\\textbf{p}_2 = \\lambda_2 \\textbf{p}_2 $, $ \\dots $, $  \\ \\textbf{A}\\textbf{p}_n = \\lambda_n \\textbf{p}_n $\n",
    "\n",
    "But each one of these equations is the definition of an eigenvector of $ \\textbf{A} $. Therefore $ \\ \\textbf{p}_1, \\ \\textbf{p}_2, \\ \\dots, \\ \\textbf{p}_n \\ $ are eigenvectors of $ \\textbf{A} $.\n",
    "\n",
    "Now since $ \\textbf{P} $ is an invertible matrix (has an inverse $ \\textbf{P}^{-1} $), then its columns are linearly independent (see definition of inverse matrix).\n",
    "\n",
    "Therefore we have proved that the eigevectors $ \\ \\textbf{p}_1, \\ \\textbf{p}_2, \\ \\dots, \\ \\textbf{p}_n \\ $ of $ \\textbf{A} $ are linearly independent."
   ]
  },
  {
   "cell_type": "markdown",
   "metadata": {},
   "source": [
    "#### Example 1\n",
    "\n",
    "Find a matrix $ \\textbf{P} $ that diagonalizes the matrix $ \\textbf{A} $\n",
    "\n",
    "$ \n",
    "\\textbf{A} = \n",
    "\\begin{bmatrix}\n",
    "-1 & 1 & 0 \\\\\n",
    "0 & 3 & 0 \\\\\n",
    "4 & -2 & 5\n",
    "\\end{bmatrix}\n",
    "$\n",
    "\n",
    "**Solution:**\n",
    "\n",
    "We need to find $ \\textbf{P} $ such that $ \\textbf{D} = \\textbf{P}^{-1} \\textbf{A} \\textbf{P} $\n",
    "\n",
    "First, find the eigenvalues of $ \\textbf{A} $"
   ]
  },
  {
   "cell_type": "code",
   "execution_count": 6,
   "metadata": {},
   "outputs": [
    {
     "name": "stdout",
     "output_type": "stream",
     "text": [
      "List of Eigenvalues [ 5.+0.j -1.+0.j  3.+0.j]\n",
      "\n",
      "List of Eigenvectors\n",
      " [[ 0.          0.          1.        ]\n",
      " [ 0.83205029  0.         -0.5547002 ]\n",
      " [ 0.21821789  0.87287156  0.43643578]]\n"
     ]
    }
   ],
   "source": [
    "import numpy as np\n",
    "import scipy as sp\n",
    "\n",
    "A = np.array([[-1, 1, 0], [0, 3, 0], [4, -2, 5]])\n",
    "\n",
    "w, v= sp.linalg.eig(A)\n",
    "\n",
    "print('List of Eigenvalues', w)\n",
    "print('\\nList of Eigenvectors\\n', v.transpose())"
   ]
  },
  {
   "cell_type": "markdown",
   "metadata": {},
   "source": [
    "Therefore the eigenvalues and eigenvectors (normalised) of $ \\textbf{A} $ are \n",
    "\n",
    "$ \\lambda_1 = 5 $ with eigenvector \n",
    "$ \n",
    "\\begin{bmatrix}\n",
    "0 \\\\\n",
    "0 \\\\\n",
    "1\n",
    "\\end{bmatrix}\n",
    "$\n",
    "\n",
    "$ \\lambda_2 = -1 $ with eigenvector\n",
    "$ \n",
    "\\begin{bmatrix}\n",
    "0.832 \\\\\n",
    "0 \\\\\n",
    "-0.555\n",
    "\\end{bmatrix}\n",
    "$\n",
    "\n",
    "\n",
    "$ \\lambda_3 = 3 $ with eigenvector\n",
    "$ \n",
    "\\begin{bmatrix}\n",
    "0.218 \\\\\n",
    "0.873 \\\\\n",
    "0.436\n",
    "\\end{bmatrix}\n",
    "$\n",
    "\n",
    "Now by definition, the diagonlised matrix will have the eigenvalues in the diagonal elements\n",
    "\n",
    "$ \n",
    "\\textbf{D} = \n",
    "\\begin{bmatrix}\n",
    "5 & 0 & 0 \\\\\n",
    "0 & -1 & 0 \\\\\n",
    "0 & 0 & 3\n",
    "\\end{bmatrix}\n",
    "$\n",
    "\n",
    "such that $ \\textbf{D} = \\textbf{P}^{-1} \\textbf{A} \\textbf{P} $\n",
    "\n",
    "The above eigenvectors make up the columns of the $ \\textbf{P} $ matrix\n",
    "\n",
    "$ \\Rightarrow \n",
    "\\textbf{P} = \n",
    "\\begin{bmatrix}\n",
    "0 & 0.832 & 0.218 \\\\\n",
    "0 & 0 & 0.873 \\\\\n",
    "1 & -0.555 & 0.436\n",
    "\\end{bmatrix}\n",
    "$\n",
    "\n",
    "Now find the inverse of this matrix, $ \\textbf{P}^{-1} $"
   ]
  },
  {
   "cell_type": "code",
   "execution_count": 7,
   "metadata": {},
   "outputs": [
    {
     "name": "stdout",
     "output_type": "stream",
     "text": [
      "[[ 0.66706731 -0.66600306  1.        ]\n",
      " [ 1.20192308 -0.30013658  0.        ]\n",
      " [ 0.          1.14547537  0.        ]]\n"
     ]
    }
   ],
   "source": [
    "import numpy as np\n",
    "import scipy as sp\n",
    "\n",
    "p = np.array([[0, 0.832, 0.218], [0, 0, 0.873], [1, -0.555, 0.436]])\n",
    "\n",
    "p_inv = sp.linalg.inv(p)\n",
    "\n",
    "print(p_inv)"
   ]
  },
  {
   "cell_type": "markdown",
   "metadata": {},
   "source": [
    "Therefore\n",
    "\n",
    "$ \n",
    "\\textbf{P}^{-1} = \n",
    "\\begin{bmatrix}\n",
    "0.667 & -0.666 & 1 \\\\\n",
    "1.202 & -0.300 & 0 \\\\\n",
    "0 & 1.145 & 0\n",
    "\\end{bmatrix}\n",
    "$\n",
    "\n",
    "Finally, evaluate $ \\textbf{P}^{-1} \\textbf{A} \\textbf{P} $ to find the diagnolised version of $ \\textbf{A} $"
   ]
  },
  {
   "cell_type": "code",
   "execution_count": 9,
   "metadata": {},
   "outputs": [
    {
     "name": "stdout",
     "output_type": "stream",
     "text": [
      "[[ 5.00000000e+00 -2.00000000e-03 -1.33293269e-03]\n",
      " [ 0.00000000e+00 -1.00000000e+00  1.20192308e-03]\n",
      " [ 0.00000000e+00  0.00000000e+00  3.00000000e+00]]\n"
     ]
    }
   ],
   "source": [
    "import numpy as np\n",
    "import scipy as sp\n",
    "\n",
    "A = np.array([[-1, 1, 0], [0, 3, 0], [4, -2, 5]])\n",
    "\n",
    "P = np.array([[0, 0.832, 0.218], [0, 0, 0.873], [1, -0.555, 0.436]])\n",
    "\n",
    "P_inv = sp.linalg.inv(P)\n",
    "\n",
    "print(P_inv.dot(A).dot(P))"
   ]
  },
  {
   "cell_type": "markdown",
   "metadata": {},
   "source": [
    "Which is the matrix\n",
    "\n",
    "$ \n",
    "\\textbf{D} = \n",
    "\\begin{bmatrix}\n",
    "5 & 0 & 0 \\\\\n",
    "0 & -1 & 0 \\\\\n",
    "0 & 0 & 3\n",
    "\\end{bmatrix}\n",
    "$"
   ]
  },
  {
   "cell_type": "markdown",
   "metadata": {},
   "source": [
    "#### Example 2\n",
    "\n",
    "Show that the following matrix is not diagonalisable,\n",
    "\n",
    "$ \n",
    "\\textbf{A} = \n",
    "\\begin{bmatrix}\n",
    "3 & 0 & 0 \\\\\n",
    "0 & 2 & 0 \\\\\n",
    "0 & 1 & 2\n",
    "\\end{bmatrix}\n",
    "$\n",
    "\n",
    "**Solution:**\n",
    "\n",
    "Start by evaluating the eigenvalues and eigenvectors"
   ]
  },
  {
   "cell_type": "code",
   "execution_count": 10,
   "metadata": {},
   "outputs": [
    {
     "name": "stdout",
     "output_type": "stream",
     "text": [
      "List of Eigenvalues [3.+0.j 2.+0.j 2.+0.j]\n",
      "\n",
      "List of Eigenvectors\n",
      " [[ 1.0000000e+00  0.0000000e+00  0.0000000e+00]\n",
      " [ 0.0000000e+00  0.0000000e+00  1.0000000e+00]\n",
      " [ 0.0000000e+00  4.4408921e-16 -1.0000000e+00]]\n"
     ]
    }
   ],
   "source": [
    "import numpy as np\n",
    "import scipy as sp\n",
    "\n",
    "A = np.array([[3, 0, 0], [0, 2, 0], [0, 1, 2]])\n",
    "\n",
    "w, v= sp.linalg.eig(A)\n",
    "\n",
    "print('List of Eigenvalues', w)\n",
    "print('\\nList of Eigenvectors\\n', v.transpose())"
   ]
  },
  {
   "cell_type": "markdown",
   "metadata": {},
   "source": [
    "The matrix has eigenalues and eigenvectors\n",
    "\n",
    "$ \\lambda_1 = 3 $ has eigenvector\n",
    "$ \n",
    "\\begin{bmatrix}\n",
    "1 \\\\\n",
    "0 \\\\\n",
    "0\n",
    "\\end{bmatrix}\n",
    "$\n",
    "\n",
    "$ \\lambda_2 = 2 $ has eigenvectors\n",
    "$ \n",
    "\\begin{bmatrix}\n",
    "0 \\\\\n",
    "0 \\\\\n",
    "1\n",
    "\\end{bmatrix}\n",
    "$\n",
    "and\n",
    "$ \n",
    "\\begin{bmatrix}\n",
    "0 \\\\\n",
    "0 \\\\\n",
    "-1\n",
    "\\end{bmatrix}\n",
    "$\n",
    "which are not linearly independent.\n",
    "\n",
    "$ \\textbf{A} $ is a $ 3 \\times 3 $ matrix whose eigenspace have only 2 basis vectors. So $ \\textbf{A} $ is not diagonalisable."
   ]
  },
  {
   "cell_type": "markdown",
   "metadata": {},
   "source": [
    "## Powers of Matrix\n",
    "\n",
    "The most efficient way to compute the power of a matrix.\n",
    "\n",
    "If $ K $ is a positive integer, $ \\lambda $ is an eigenvalue of a matrix $ \\textbf{A} $, and $ \\textbf{x} $ is a corresponding eigenvector, then $ \\lambda^{K} $ is an eigenvalue of $ \\textbf{A}^{K} $ and $ \\textbf{x} $ is a corresponding eigenvector.\n",
    "\n",
    "$ \\textbf{P}^{-1} \\textbf{A} \\textbf{P} = $\n",
    "$ \n",
    "\\begin{bmatrix}\n",
    "\\lambda_1 & 0 & \\cdots & 0 \\\\\n",
    "0 & \\lambda_2 & \\cdots & 0 \\\\\n",
    "\\vdots \\\\\n",
    "0 & 0 & \\cdots & \\lambda_n\n",
    "\\end{bmatrix}\n",
    "= \\textbf{D}\n",
    "$\n",
    "\n",
    "$ (\\textbf{P}^{-1} \\textbf{A} \\textbf{P})^{K} = $\n",
    "$ \n",
    "\\begin{bmatrix}\n",
    "\\lambda_1^{K} & 0 & \\cdots & 0 \\\\\n",
    "0 & \\lambda_2^{K} & \\cdots & 0 \\\\\n",
    "\\vdots \\\\\n",
    "0 & 0 & \\cdots & \\lambda_n^{K}\n",
    "\\end{bmatrix}\n",
    "= \\textbf{D}^{K}\n",
    "$\n",
    "\n",
    "**Proof:**\n",
    "\n",
    "$ (\\textbf{P}^{-1} \\textbf{A} \\textbf{P})^{K} = \\textbf{P}^{-1} \\textbf{A} \\textbf{P} \\textbf{P}^{-1} \\textbf{A} \\textbf{P} \\cdots \\textbf{P}^{-1} \\textbf{A} \\textbf{P} = \\textbf{D}^{K}$\n",
    "\n",
    "$ \\Rightarrow (\\textbf{P}^{-1} \\textbf{A} \\textbf{P})^{K} = \\textbf{P}^{-1} \\textbf{A} \\cancel{\\textbf{P}} \\cancel{\\textbf{P}^{-1}} \\textbf{A} \\cancel{\\textbf{P}} \\cdots \\cancel{\\textbf{P}^{-1}} \\textbf{A} \\textbf{P} \\textbf{D}^{K} = \\textbf{D}^{K} $\n",
    "\n",
    "$ \\Rightarrow (\\textbf{P}^{-1} \\textbf{A} \\textbf{P})^{K} = \\textbf{P}^{-1} \\textbf{A}^{K} \\textbf{P} = \\textbf{D}^{K} $\n",
    "\n",
    "$ \\Rightarrow \\textbf{A}^{K}  = \\textbf{P} \\textbf{D}^{K} \\textbf{P}^{-1} $\n",
    "\n",
    "Now $ \\textbf{P} $ is just the matrix of eigenvectors of $ \\textbf{A} $ and $ \\textbf{D}^{K} $ is simply the $ K^{th} $ power of the diagonal elements of the matrix $ \\textbf{D} $. Therefore calculating the power of the matrix $ \\textbf{A} $ simply depends on evaluating its eigenvalues and eigenvectors."
   ]
  },
  {
   "cell_type": "markdown",
   "metadata": {},
   "source": [
    "### Example 3\n",
    "\n",
    "Find $ \\textbf{A}^{12} $ where \n",
    "$\n",
    "\\textbf{A} = \n",
    "\\begin{bmatrix}\n",
    "-1 & 1 & 0 \\\\\n",
    "0 & 3 & 0 \\\\\n",
    "4 & -2 & 5\n",
    "\\end{bmatrix}\n",
    "$\n",
    "\n",
    "**Solution:**\n",
    "\n",
    "Find the eigenvalues and eigenvectors of $ \\textbf{A} $"
   ]
  },
  {
   "cell_type": "code",
   "execution_count": 11,
   "metadata": {},
   "outputs": [
    {
     "name": "stdout",
     "output_type": "stream",
     "text": [
      "List of Eigenvalues [ 5.+0.j -1.+0.j  3.+0.j]\n",
      "\n",
      "List of Eigenvectors\n",
      " [[ 0.          0.          1.        ]\n",
      " [ 0.83205029  0.         -0.5547002 ]\n",
      " [ 0.21821789  0.87287156  0.43643578]]\n"
     ]
    }
   ],
   "source": [
    "import numpy as np\n",
    "import scipy as sp\n",
    "\n",
    "A = np.array([[-1, 1, 0], [0, 3, 0], [4, -2, 5]])\n",
    "\n",
    "w, v= sp.linalg.eig(A)\n",
    "\n",
    "print('List of Eigenvalues', w)\n",
    "print('\\nList of Eigenvectors\\n', v.transpose())"
   ]
  },
  {
   "cell_type": "markdown",
   "metadata": {},
   "source": [
    "Therefore, the eigenvaules and eigenvectors are\n",
    "\n",
    "$ \\lambda_1 = 5.0 \\ \\ $ with eigenvector\n",
    "$\n",
    "\\begin{bmatrix}\n",
    "0 \\\\\n",
    "0 \\\\\n",
    "1 \n",
    "\\end{bmatrix}\n",
    "$\n",
    ",\n",
    "\n",
    "$ \\lambda_1 = -1.0 \\ \\ $ with eigenvector\n",
    "$\n",
    "\\begin{bmatrix}\n",
    "0.832 \\\\\n",
    "0 \\\\\n",
    "-0.555 \n",
    "\\end{bmatrix}\n",
    "$\n",
    ",\n",
    "\n",
    "$ \\lambda_1 = 3.0 \\ \\ $ with eigenvector\n",
    "$\n",
    "\\begin{bmatrix}\n",
    "0.218 \\\\\n",
    "0.873 \\\\\n",
    "0.436 \n",
    "\\end{bmatrix}\n",
    "$\n",
    "\n",
    "Therefore we can write\n",
    "\n",
    "$ \n",
    "\\textbf{D} =\n",
    "\\begin{bmatrix}\n",
    "5 & 0 & 0 \\\\\n",
    "0 & -1 & 0 \\\\\n",
    "0 & 0 & 3\n",
    "\\end{bmatrix}\n",
    "$\n",
    "\n",
    "and \n",
    "\n",
    "$ \n",
    "\\textbf{P} =\n",
    "\\begin{bmatrix}\n",
    "0 & 0.832 & 0.218 \\\\\n",
    "0 & 0 & 0.873 \\\\\n",
    "1 & -0.555 & 0.436\n",
    "\\end{bmatrix}\n",
    "$\n",
    "\n",
    "Now applying $ \\textbf{A}^{12}  = \\textbf{P} \\textbf{D}^{12} \\textbf{P}^{-1} $\n",
    "\n",
    "$ \\textbf{D}^{12} $ is just the $ 12^{th} $ power of the diagonal elements of $ \\textbf{D} $"
   ]
  },
  {
   "cell_type": "code",
   "execution_count": 15,
   "metadata": {},
   "outputs": [
    {
     "name": "stdout",
     "output_type": "stream",
     "text": [
      "[[ 1.00000000e+00  1.32707812e+05  0.00000000e+00]\n",
      " [ 0.00000000e+00  5.31441000e+05  0.00000000e+00]\n",
      " [ 1.62858229e+08 -1.62332988e+08  2.44140625e+08]]\n"
     ]
    }
   ],
   "source": [
    "import numpy as np\n",
    "import scipy as sp\n",
    "\n",
    "D_12 = np.array([[5**12, 0, 0], [0, (-1)**12, 0], [0, 0, 3**12]])\n",
    "\n",
    "P = np.array([[0, 0.832, 0.218], [0, 0, 0.873], [1, -0.555, 0.436]])\n",
    "\n",
    "P_inv = sp.linalg.inv(P)\n",
    "\n",
    "print(P.dot(D_12).dot(P_inv))"
   ]
  },
  {
   "cell_type": "markdown",
   "metadata": {},
   "source": [
    "Therefore \n",
    "\n",
    "$ \n",
    "\\textbf{A}^{12} = \n",
    "\\begin{bmatrix}\n",
    "1 & 132,860 & 0 \\\\\n",
    "0 & 531,441 & 0 \\\\\n",
    "162,760,416 & -162,494,696 & 244,140,625\n",
    "\\end{bmatrix}\n",
    "$"
   ]
  },
  {
   "cell_type": "markdown",
   "metadata": {},
   "source": [
    "Let's check using SciPy"
   ]
  },
  {
   "cell_type": "code",
   "execution_count": 2,
   "metadata": {},
   "outputs": [
    {
     "name": "stdout",
     "output_type": "stream",
     "text": [
      "[[         1     132860          0]\n",
      " [         0     531441          0]\n",
      " [ 162760416 -162494696  244140625]]\n"
     ]
    }
   ],
   "source": [
    "import numpy as np\n",
    "import scipy as sp\n",
    "\n",
    "A = np.array([[-1, 1, 0], [0, 3, 0], [4, -2, 5]])\n",
    "\n",
    "print(A.dot(A).dot(A).dot(A).dot(A).dot(A).dot(A).dot(A).dot(A).dot(A).dot(A).dot(A))"
   ]
  },
  {
   "cell_type": "markdown",
   "metadata": {},
   "source": [
    "Which confirms our calculation."
   ]
  }
 ],
 "metadata": {
  "kernelspec": {
   "display_name": "Python 3 (ipykernel)",
   "language": "python",
   "name": "python3"
  },
  "language_info": {
   "codemirror_mode": {
    "name": "ipython",
    "version": 3
   },
   "file_extension": ".py",
   "mimetype": "text/x-python",
   "name": "python",
   "nbconvert_exporter": "python",
   "pygments_lexer": "ipython3",
   "version": "3.10.11"
  }
 },
 "nbformat": 4,
 "nbformat_minor": 4
}
