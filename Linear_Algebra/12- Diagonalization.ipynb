{
 "cells": [
  {
   "cell_type": "markdown",
   "metadata": {},
   "source": [
    "## Diagonalization\n",
    "\n",
    "1. A matrix $ \\textbf{D} $ whose off-diagonal entries are all zero is called a diagonal matrix.\n",
    "\n",
    "2. A matrix $ \\textbf{A} $ is called diagonalizable if it is similar to a diagonal matrix $ \\textbf{D} $, and there exists an invertible $ \\textbf{P} $ such that\n",
    "   \n",
    "   $ \\textbf{A} = \\textbf{PDP}^{−1} $\n",
    "\n",
    "3. A matrix $ \\textbf{A} $ is diagonalizable if and only if there is a basis $ {\\textbf{v}_1, \\textbf{v}_2, \\cdots , \\textbf{v}_n} $ of $ \\mathbb{R}^n $ consisting of eigenvectors of $ \\textbf{A} $.\n",
    "\n",
    "4. Suppose that $ \\textbf{A} $ is a square matrix with n distinct eigenvalues $ λ_1, λ_2, . . . , λ_n $. Then $ \\textbf{A} $ is diagonalizable.\n",
    "\n",
    "5. A matrix $ \\textbf{A} $ is diagonalizable if and only if the algebraic and geometric multiplicities of each eigenvalue are equal."
   ]
  },
  {
   "cell_type": "markdown",
   "metadata": {},
   "source": [
    "## Positive Definite / Semi-Definite / Negative-Definite\n",
    "\n",
    "- A symmetric matrix A with real entries is positive-definite if the real scalar number $ \\textbf{z}^{T}\\textbf{Az} $ is positive for every nonzero real column vector \\textbf{z}.\n",
    "\n",
    "- Positive semi-definite matrices are defined similarly, except that the scalars $ \\textbf{z}^{T}\\textbf{Az} $ and $ \\textbf{z}^{*}\\textbf{Az} $ are required to be positive or zero (that is, nonnegative). \n",
    "  \n",
    "- Negative-definite and negative semi-definite matrices are defined analogously. A matrix that is not positive semi-definite and not negative semi-definite is sometimes called indefinite."
   ]
  },
  {
   "cell_type": "markdown",
   "metadata": {},
   "source": [
    "## Hermitian Matrix\n",
    "\n",
    "A Hermitian matrix is positive-definite if the real number $ \\textbf{z}^{*}\\textbf{Az} $ is positive for every nonzero complex column vector. $ \\textbf{z}^* $ denotes the conjugate transpose of $ \\textbf{z} $."
   ]
  }
 ],
 "metadata": {
  "kernelspec": {
   "display_name": "Python 3 (ipykernel)",
   "language": "python",
   "name": "python3"
  },
  "language_info": {
   "codemirror_mode": {
    "name": "ipython",
    "version": 3
   },
   "file_extension": ".py",
   "mimetype": "text/x-python",
   "name": "python",
   "nbconvert_exporter": "python",
   "pygments_lexer": "ipython3",
   "version": "3.10.11"
  }
 },
 "nbformat": 4,
 "nbformat_minor": 4
}
