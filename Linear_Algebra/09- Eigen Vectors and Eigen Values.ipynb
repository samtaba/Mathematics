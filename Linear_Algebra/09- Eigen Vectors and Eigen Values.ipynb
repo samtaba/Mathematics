{
 "cells": [
  {
   "cell_type": "markdown",
   "metadata": {},
   "source": [
    "## Eigenvectors and Eigenvalues\n",
    "\n",
    "- Let $ \\textbf{A} $ be an $ n \\times n $ matrix and let $ \\textbf{v} $ be a non-zero vector. If the equation $ \\textbf{Av} = \\lambda \\textbf{v} $ is true for some scalar $ \\lambda $, then we call the vector $ \\textbf{v} $ an eigenvector of $ \\textbf{A} $ and we call the scalar $ \\lambda $ an eigenvalue of $ \\textbf{A} $.\n",
    "\n",
    "- Let $ \\textbf{A} $ be an $ n \\times n $ matrix. The polynomial $ p(\\lambda) = |\\textbf{A} − \\lambda \\textbf{I}| $ is called the characteristic polynomial and is of $ n^{th} $ degree.\n",
    "\n",
    "- If $ \\textbf{A} $ is an $ n \\times n $ matrix that has n distinct eigenvalues $ \\{\\lambda_1, \\lambda_2, . . . , \\lambda_n \\} $ with corresponding eigenvectors $ \\lambda_{i} $. Then $ \\{\\textbf{v}_1, \\textbf{v}_2, \\cdots, \\textbf{v}_n\\} $, then the eigenvectors forms a basis for $ \\mathbb{R}^n $.\n",
    "\n",
    "- The square matrix $ \\textbf{A} $ is invertible if and only if $ \\lambda = 0 $ is not an eigenvalue of $ \\textbf{A} $.\n",
    "\n",
    "- Let $ \\textbf{A} $ be a triangular matrix (either upper or lower). Then the eigenvalues of $ \\textbf{A} $ are its diagonal entries\n",
    "\n",
    "- If $ \\textbf{A} $ is a symmetric matrix then all of its eigenvalues are real numbers\n",
    "\n",
    "- Let $ \\textbf{A} $ be a symmetric matrix. If $ \\textbf{v}_1 $ and $ \\textbf{v}_2 $ are eigenvectors of $ \\textbf{A} $ corresponding to distinct eigenvalues then $ \\textbf{v}_1 $ and $ \\textbf{v}_2 $ are orthogonal, that is, $ \\textbf{v}_1 . \\textbf{v}_2 = 0 $"
   ]
  },
  {
   "cell_type": "markdown",
   "metadata": {},
   "source": [
    "#### Example using SciPy"
   ]
  },
  {
   "cell_type": "code",
   "execution_count": 1,
   "metadata": {},
   "outputs": [
    {
     "name": "stdout",
     "output_type": "stream",
     "text": [
      "List of Eigenvalues [ 8.80916362+0.j  0.92620912+0.j -0.73537273+0.j]\n",
      "\n",
      "List of Eigenvectors\n",
      " [[-0.52799324 -0.77557092 -0.36272811]\n",
      " [-0.604391    0.62277013 -0.7103262 ]\n",
      " [-0.59660259 -0.10318482  0.60321224]]\n"
     ]
    }
   ],
   "source": [
    "import numpy as np\n",
    "import scipy as sp\n",
    "\n",
    "A = np.array([[2, 2, 4], [1, 3, 5], [2, 3, 4]])\n",
    "\n",
    "w, v= sp.linalg.eig(A)\n",
    "\n",
    "print('List of Eigenvalues', w)\n",
    "print('\\nList of Eigenvectors\\n', v)"
   ]
  },
  {
   "cell_type": "code",
   "execution_count": 2,
   "metadata": {},
   "outputs": [
    {
     "name": "stdout",
     "output_type": "stream",
     "text": [
      "[-4.65117884 -5.32417919 -5.25556984]\n",
      "[-4.65117884 -5.32417921 -5.25556983]\n"
     ]
    }
   ],
   "source": [
    "# proof\n",
    "\n",
    "eval_1 = 8.80916362\n",
    "eval_2 = 0.92620912\n",
    "eval_3 = -0.73537273\n",
    "\n",
    "evec_1 = np.array([-0.52799324, -0.604391, -0.59660259])\n",
    "\n",
    "print(A @ evec_1)\n",
    "print(eval_1 * evec_1)"
   ]
  }
 ],
 "metadata": {
  "kernelspec": {
   "display_name": "Python 3 (ipykernel)",
   "language": "python",
   "name": "python3"
  },
  "language_info": {
   "codemirror_mode": {
    "name": "ipython",
    "version": 3
   },
   "file_extension": ".py",
   "mimetype": "text/x-python",
   "name": "python",
   "nbconvert_exporter": "python",
   "pygments_lexer": "ipython3",
   "version": "3.10.11"
  }
 },
 "nbformat": 4,
 "nbformat_minor": 4
}
