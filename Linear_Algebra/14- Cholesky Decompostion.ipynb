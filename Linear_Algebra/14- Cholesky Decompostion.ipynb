{
 "cells": [
  {
   "cell_type": "markdown",
   "metadata": {},
   "source": [
    "## Cholesky Decomposition\n",
    "\n",
    "Cholesky decomposition is a special case of $ \\textbf{LU} $ decomposition applicable to Hermitian positive definite matrices.\n",
    "\n",
    "When $ \\textbf{A} = \\textbf{A}^H $ and $ \\textbf{x}^H \\textbf{Ax} \\ge 0 $ for all x, then decompositions of $ \\textbf{A} $ can be found so that\n",
    "\n",
    "$ \\textbf{A} = \\textbf{U}^{H}\\textbf{U} $\n",
    "\n",
    "$ \\textbf{A} = \\textbf{LL}^{H} $\n",
    "\n",
    "where $ \\textbf{L} $ is lower triangular and $ \\textbf{U} $ is upper triangular where $ \\textbf{L} = \\textbf{U}^{H} $\n",
    "\n",
    "The Cholesky decomposition is often used as a fast way of solving $ \\textbf{Ax = b} $ (when $ \\textbf{A} $ is both Hermitian/symmetric and positive-definite)."
   ]
  },
  {
   "cell_type": "code",
   "execution_count": 25,
   "metadata": {},
   "outputs": [
    {
     "name": "stdout",
     "output_type": "stream",
     "text": [
      "[[ 6  3  4  8]\n",
      " [ 3  6  5  1]\n",
      " [ 4  5 10  7]\n",
      " [ 8  1  7 25]] \n",
      "\n",
      "[[ 2.44948974  0.          0.          0.        ]\n",
      " [ 1.22474487  2.12132034  0.          0.        ]\n",
      " [ 1.63299316  1.41421356  2.30940108  0.        ]\n",
      " [ 3.26598632 -1.41421356  1.58771324  3.13249102]] \n",
      "\n",
      "[[ 2.44948974  1.22474487  1.63299316  3.26598632]\n",
      " [ 0.          2.12132034  1.41421356 -1.41421356]\n",
      " [ 0.          0.          2.30940108  1.58771324]\n",
      " [ 0.          0.          0.          3.13249102]] \n",
      "\n",
      "[[ 6.  3.  4.  8.]\n",
      " [ 3.  6.  5.  1.]\n",
      " [ 4.  5. 10.  7.]\n",
      " [ 8.  1.  7. 25.]]\n"
     ]
    }
   ],
   "source": [
    "A = np.array([[6, 3, 4, 8], [3, 6, 5, 1], [4, 5, 10, 7], [8, 1, 7, 25]])\n",
    "\n",
    "L = sp.linalg.cholesky(A, lower = True)\n",
    "U = sp.linalg.cholesky(A, lower = False)\n",
    "\n",
    "print(A, '\\n')\n",
    "\n",
    "print(L, '\\n')\n",
    "\n",
    "print(U, '\\n')\n",
    "\n",
    "print(L @ U)"
   ]
  }
 ],
 "metadata": {
  "kernelspec": {
   "display_name": "Python 3 (ipykernel)",
   "language": "python",
   "name": "python3"
  },
  "language_info": {
   "codemirror_mode": {
    "name": "ipython",
    "version": 3
   },
   "file_extension": ".py",
   "mimetype": "text/x-python",
   "name": "python",
   "nbconvert_exporter": "python",
   "pygments_lexer": "ipython3",
   "version": "3.10.11"
  }
 },
 "nbformat": 4,
 "nbformat_minor": 4
}
