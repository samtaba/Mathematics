{
 "cells": [
  {
   "cell_type": "markdown",
   "metadata": {},
   "source": [
    "## Cholesky Decomposition\n",
    "\n",
    "The Cholesky decomposition is a decomposition of a Hermitian, positive-definite matrix into the product of a lower triangular matrix $ \\textbf{L} $ and its conjugate transpose, $ \\textbf{L}^{*} $, which is useful for efficient numerical solutions such as Monte Carlo simulations. \n",
    "\n",
    "$ \\textbf{A} = \\textbf{L} \\textbf{L}^{*} $\n",
    "\n",
    "The Cholesky decomposition is roughly twice as efficient as the LU decomposition for solving systems of linear equations and is often used as a fast way of solving sets of linear equations, $ \\textbf{Ax = b} $ (when $ \\textbf{A} $ is both Hermitian/symmetric and positive-definite).\n",
    "\n",
    "When $ \\textbf{A} $ is a real matrix (hence symmetric positive-definite), the factorization may be written\n",
    "\n",
    "$ \\textbf{A} = \\textbf{L} \\textbf{L}^{T} $"
   ]
  },
  {
   "cell_type": "code",
   "execution_count": null,
   "metadata": {},
   "outputs": [
    {
     "name": "stdout",
     "output_type": "stream",
     "text": [
      "[[ 6  3  4  8]\n",
      " [ 3  6  5  1]\n",
      " [ 4  5 10  7]\n",
      " [ 8  1  7 25]] \n",
      "\n",
      "[[ 2.44948974  0.          0.          0.        ]\n",
      " [ 1.22474487  2.12132034  0.          0.        ]\n",
      " [ 1.63299316  1.41421356  2.30940108  0.        ]\n",
      " [ 3.26598632 -1.41421356  1.58771324  3.13249102]] \n",
      "\n",
      "[[ 2.44948974  1.22474487  1.63299316  3.26598632]\n",
      " [ 0.          2.12132034  1.41421356 -1.41421356]\n",
      " [ 0.          0.          2.30940108  1.58771324]\n",
      " [ 0.          0.          0.          3.13249102]] \n",
      "\n",
      "[[ 6.  3.  4.  8.]\n",
      " [ 3.  6.  5.  1.]\n",
      " [ 4.  5. 10.  7.]\n",
      " [ 8.  1.  7. 25.]]\n"
     ]
    }
   ],
   "source": [
    "A = np.array([[6, 3, 4, 8], [3, 6, 5, 1], [4, 5, 10, 7], [8, 1, 7, 25]])\n",
    "\n",
    "L = sp.linalg.cholesky(A, lower = True)\n",
    "L_T = sp.linalg.cholesky(A, lower = False)\n",
    "\n",
    "print(A, '\\n')\n",
    "\n",
    "print(L, '\\n')\n",
    "\n",
    "print(L_T, '\\n')\n",
    "\n",
    "print(L @ L_T)"
   ]
  }
 ],
 "metadata": {
  "kernelspec": {
   "display_name": "Python 3 (ipykernel)",
   "language": "python",
   "name": "python3"
  },
  "language_info": {
   "codemirror_mode": {
    "name": "ipython",
    "version": 3
   },
   "file_extension": ".py",
   "mimetype": "text/x-python",
   "name": "python",
   "nbconvert_exporter": "python",
   "pygments_lexer": "ipython3",
   "version": "3.10.11"
  }
 },
 "nbformat": 4,
 "nbformat_minor": 4
}
