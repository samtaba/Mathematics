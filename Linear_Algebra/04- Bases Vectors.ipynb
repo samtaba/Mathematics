{
 "cells": [
  {
   "cell_type": "markdown",
   "metadata": {},
   "source": [
    "## Bases Vectors\n",
    "\n",
    "Let $ W $ be a subspace of a vector space $ V $. \n",
    "\n",
    "A set of vectors $ B = \\{\\textbf{v}_1, \\cdots , \\textbf{v}_k\\} \\in W $ is said to be a basis for $ W $ if \n",
    "\n",
    "- The set $ B $ spans all of $ W $, that is, $ W = span\\{\\textbf{v}_1, \\cdots, \\textbf{v}_k\\} $, and\n",
    "  \n",
    "- The set $ B $ is linearly independent."
   ]
  },
  {
   "cell_type": "markdown",
   "metadata": {},
   "source": [
    "### Example 1\n",
    "\n",
    "Show the standard unit vectors form a basis for $ V = \\mathbb{R}^3 $\n",
    "\n",
    "$ \n",
    "\\textbf{e}_1 = \n",
    "\\begin{bmatrix}\n",
    "1 \\\\\n",
    "0 \\\\\n",
    "0 \n",
    "\\end{bmatrix}\n",
    "\\ \\ \\ \\\n",
    "\\textbf{e}_2 =\n",
    "\\begin{bmatrix}\n",
    "0 \\\\\n",
    "1 \\\\\n",
    "0\n",
    "\\end{bmatrix}\n",
    "\\ \\ \\ \\\n",
    "\\textbf{e}_3 =\n",
    "\\begin{bmatrix}\n",
    "\\ 0 \\ \\\\\n",
    "\\ 0 \\ \\\\\n",
    "\\ 1 \\\n",
    "\\end{bmatrix}\n",
    "$\n",
    "\n",
    "Solution:\n",
    "\n",
    "Any vector $ x \\in \\mathbb{R}^3 $ can be written as a linear combination $ \\textbf{e}_1, \\textbf{e}_2, \\textbf{e}_3 $\n",
    "\n",
    "$ \n",
    "\\textbf{x} =\n",
    "\\begin{bmatrix}\n",
    "x_1 \\\\\n",
    "x_2 \\\\\n",
    "x_3 \n",
    "\\end{bmatrix}\n",
    "    =\n",
    "x_1\n",
    "\\begin{bmatrix}\n",
    "1 \\\\\n",
    "0 \\\\\n",
    "0 \n",
    "\\end{bmatrix}\n",
    "+\n",
    "x_2\n",
    "\\begin{bmatrix}\n",
    "0 \\\\\n",
    "1 \\\\\n",
    "0\n",
    "\\end{bmatrix}\n",
    "+\n",
    "x_3\n",
    "\\begin{bmatrix}\n",
    "\\ 0 \\ \\\\\n",
    "\\ 0 \\ \\\\\n",
    "\\ 1 \\\n",
    "\\end{bmatrix}\n",
    "    =\n",
    "x_1 \\textbf{e}_1 + x_2 \\textbf{e}_2 + x_3 \\textbf{e}_3\n",
    "$\n",
    "\n",
    "Therefore, $ span\\{\\textbf{e}_1, \\textbf{e}_2, \\textbf{e}_3 \\} = \\mathbb{R}^3 $ and the set $ B = \\{\\textbf{e}_1, \\textbf{e}_2, \\textbf{e}_3\\} $ is linearly independent.\n",
    "\n",
    "Therefore the bases vectors $ \\textbf{e}_1, \\textbf{e}_2, \\textbf{e}_3 $ form a bases for $ \\mathbb{R}^3 $ "
   ]
  },
  {
   "cell_type": "markdown",
   "metadata": {},
   "source": [
    "## Dimension Vector Space\n",
    "\n",
    "Let $ V $ be a vector space. Then all bases of $ V $ have the same number of vectors.\n",
    "\n",
    "Let $ V $ be a vector space. The dimension of $ V $, denoted $ dim V $, is the number of vectors in any basis of $ V $. The dimension of the trivial vector space $ V = {0} $ is\n",
    "defined to be zero.\n",
    "\n",
    "Let $ B = \\{\\textbf{v}_1, \\cdots , \\textbf{v}_n\\} $ be vectors in $ \\mathbb{R}^n $. If $ \\textbf{B} $ is linearly independent then $ \\textbf{B} $ is a basis for $ \\mathbb{R}^n $. \n",
    "Or if $ span\\{\\textbf{v}_1, \\textbf{v}_2, \\cdots, \\textbf{v}_n\\} = \\mathbb{R}^n $ then $ \\textbf{B} $ is a basis for $ \\mathbb{R}^n $."
   ]
  },
  {
   "cell_type": "markdown",
   "metadata": {},
   "source": [
    "## Coordinates in an Orthonormal Basis\n",
    "\n",
    "Let $ \\textbf{B} = \\{\\textbf{u}_1, \\textbf{u}_2, \\cdots, \\textbf{u}_n \\} $ be an orthonormal basis for $ \\mathbb{R}^n $. The coordinate vector of $ \\textbf{x} $ in the basis $ \\textbf{B} $ is\n",
    "\n",
    "  $\n",
    "  \\textbf{x}_B =\n",
    "  \\begin{bmatrix}\n",
    "    \\textbf{u}_1 \\cdot \\textbf{x} \\\\\n",
    "    \\textbf{u}_2 \\cdot \\textbf{x} \\\\\n",
    "    \\vdots \\\\\n",
    "    \\textbf{u}_n \\cdot \\textbf{x}\n",
    "  \\end{bmatrix}\n",
    "  $"
   ]
  },
  {
   "cell_type": "markdown",
   "metadata": {},
   "source": []
  }
 ],
 "metadata": {
  "kernelspec": {
   "display_name": "Python 3 (ipykernel)",
   "language": "python",
   "name": "python3"
  },
  "language_info": {
   "codemirror_mode": {
    "name": "ipython",
    "version": 3
   },
   "file_extension": ".py",
   "mimetype": "text/x-python",
   "name": "python",
   "nbconvert_exporter": "python",
   "pygments_lexer": "ipython3",
   "version": "3.10.11"
  }
 },
 "nbformat": 4,
 "nbformat_minor": 4
}
