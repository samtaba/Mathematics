{
 "cells": [
  {
   "cell_type": "markdown",
   "metadata": {},
   "source": [
    "## QR Decomposition\n",
    "\n",
    "QR decomposition of a matrix $ \\textbf{A} $ is a decomposition into a product $ \\textbf{A = QR} $ of an orthonormal matrix $ \\textbf{Q} $ and an upper triangular matrix $ \\textbf{R} $ ."
   ]
  },
  {
   "cell_type": "code",
   "execution_count": 26,
   "metadata": {},
   "outputs": [
    {
     "name": "stdout",
     "output_type": "stream",
     "text": [
      "[[ 12 -51   4]\n",
      " [  6 167 -68]\n",
      " [ -4  24 -41]] \n",
      "\n",
      "[[-0.85714286  0.39428571  0.33142857]\n",
      " [-0.42857143 -0.90285714 -0.03428571]\n",
      " [ 0.28571429 -0.17142857  0.94285714]] \n",
      "\n",
      "[[ -14.  -21.   14.]\n",
      " [   0. -175.   70.]\n",
      " [   0.    0.  -35.]] \n",
      "\n",
      "[[ 12. -51.   4.]\n",
      " [  6. 167. -68.]\n",
      " [ -4.  24. -41.]]\n"
     ]
    }
   ],
   "source": [
    "A = np.array([[12, -51, 4], [6, 167, -68], [-4, 24, -41]])\n",
    "Q, R = sp.linalg.qr(A)\n",
    "\n",
    "print(A, '\\n')\n",
    "\n",
    "print(Q, '\\n')\n",
    "\n",
    "print(R, '\\n')\n",
    "\n",
    "print(Q @ R)"
   ]
  }
 ],
 "metadata": {
  "kernelspec": {
   "display_name": "Python 3 (ipykernel)",
   "language": "python",
   "name": "python3"
  },
  "language_info": {
   "codemirror_mode": {
    "name": "ipython",
    "version": 3
   },
   "file_extension": ".py",
   "mimetype": "text/x-python",
   "name": "python",
   "nbconvert_exporter": "python",
   "pygments_lexer": "ipython3",
   "version": "3.10.11"
  }
 },
 "nbformat": 4,
 "nbformat_minor": 4
}
