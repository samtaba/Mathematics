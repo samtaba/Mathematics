{
 "cells": [
  {
   "cell_type": "markdown",
   "metadata": {},
   "source": [
    "# Orthogonal Matrices\n",
    "\n",
    "A square matrix $ \\textbf{A} $ is said to be orthogonal if its transpose is also its inverse\n",
    "\n",
    "$ \\textbf{A}^{-1} = \\textbf{A}^{T} $\n",
    "\n",
    "This implies\n",
    "\n",
    "$ \\textbf{A}\\textbf{A}^{T} = \\textbf{A}^T \\textbf{A} = \\textbf{I} $\n",
    "\n",
    "and the corresponding matrix transformation is said be an orthogonal transformation or an orthogonal operator.\n",
    "\n",
    "The following are equivalent for an $ n \\times n $ matrix $ \\textbf{A} $\n",
    "\n",
    "- $ \\textbf{A} $ is orthogonal.\n",
    "\n",
    "- The row vectors of $ \\textbf{A} $ form an orthonormal basis for $ \\mathbb{R}^{n} $ with the Euclidean inner product.\n",
    "\n",
    "- The column vectors of $ \\textbf{A} $ form an orthonormal basis for $ \\mathbb{R}^n $ witht he Euclidean inner product. "
   ]
  },
  {
   "cell_type": "markdown",
   "metadata": {},
   "source": [
    "### Examples\n",
    "\n",
    "$\n",
    "\\textbf{A} = \n",
    "\\begin{bmatrix}\n",
    "\\frac{1}{\\sqrt{2}} & -\\frac{1}{\\sqrt{2}} \\\\\n",
    "\\frac{1}{\\sqrt{2}} & \\frac{1}{\\sqrt{2}}\n",
    "\\end{bmatrix}\n",
    "\\ \\ \\ \\Rightarrow\n",
    "\\textbf{A}^{T} = \n",
    "\\begin{bmatrix}\n",
    "\\frac{1}{\\sqrt{2}} & \\frac{1}{\\sqrt{2}} \\\\\n",
    "-\\frac{1}{\\sqrt{2}} & \\frac{1}{\\sqrt{2}}\n",
    "\\end{bmatrix}\n",
    "\\ \\ \\ \\Rightarrow\n",
    "\\textbf{A}\\textbf{A}^{T} =  \n",
    "\\begin{bmatrix}\n",
    "1 & 0 \\\\\n",
    "0 & 1\n",
    "\\end{bmatrix}\n",
    "= I\n",
    "$\n",
    "\n",
    "and\n",
    "\n",
    "$\n",
    "\\textbf{A} = \n",
    "\\begin{bmatrix}\n",
    "\\cos\\theta & -\\sin\\theta \\\\\n",
    "\\sin\\theta & \\cos\\theta\n",
    "\\end{bmatrix}\n",
    "\\ \\ \\ \\Rightarrow\n",
    "\\textbf{A}^{T} = \n",
    "\\begin{bmatrix}\n",
    "\\cos\\theta & \\sin\\theta \\\\\n",
    "-\\sin\\theta & \\cos\\theta\n",
    "\\end{bmatrix}\n",
    "\\ \\ \\ \\Rightarrow\n",
    "\\textbf{A}\\textbf{A}^{T} =  \n",
    "\\begin{bmatrix}\n",
    "1 & 0 \\\\\n",
    "0 & 1\n",
    "\\end{bmatrix}\n",
    "= I\n",
    "$\n",
    "\n",
    "and\n",
    "\n",
    "$\n",
    "\\textbf{A} = \n",
    "\\begin{bmatrix}\n",
    "1 & 0 & 0 \\\\\n",
    "0 & -1 & 0 \\\\\n",
    "0 & 0 & 1\n",
    "\\end{bmatrix}\n",
    "\\ \\ \\ \\Rightarrow\n",
    "\\textbf{A}^{T} = \n",
    "\\begin{bmatrix}\n",
    "1 & 0 & 0 \\\\\n",
    "0 & -1 & 0 \\\\\n",
    "0 & 0 & 1\n",
    "\\end{bmatrix}\n",
    "\\ \\ \\ \\Rightarrow\n",
    "\\textbf{A}\\textbf{A}^{T} =  \n",
    "\\begin{bmatrix}\n",
    "1 & 0 & 0 \\\\\n",
    "0 & 1 & 0 \\\\\n",
    "0 & 0 & 1 \n",
    "\\end{bmatrix}\n",
    "= I\n",
    "$\n"
   ]
  },
  {
   "cell_type": "markdown",
   "metadata": {},
   "source": [
    "**Theorem:** \n",
    "\n",
    "Let $ \\textbf{A} $ and $ \\textbf{B} $ be orthogonal matrices. Then\n",
    "\n",
    "- $ \\textbf{A}^T $ is orthogonal\n",
    "- $ \\textbf{A}^{-1} $ is orthogonal\n",
    "- $ \\textbf{A}\\textbf{B} $ is orthogonal\n",
    "- $ det\\textbf{A} = \\pm 1 $"
   ]
  },
  {
   "cell_type": "markdown",
   "metadata": {},
   "source": [
    "**Theorem:** \n",
    "\n",
    "The following are equivalent for an $ n \\times n $ matrix $ \\textbf{A} $\n",
    "\n",
    "- $ \\textbf{A} $ is orthogonal\n",
    "- $ ||\\textbf{Ax}||=||\\textbf{x}|| \\ \\ \\forall \\ \\textbf{x}\\in\\mathbb{R} $\n",
    "- $ \\textbf{Ax} \\cdot \\textbf{Ay} = \\textbf{x} \\cdot \\textbf{y} \\ \\ \\forall \\ \\textbf{x}, \\textbf{y} \\in\\mathbb{R} $"
   ]
  },
  {
   "cell_type": "markdown",
   "metadata": {},
   "source": [
    "**Theorem:** \n",
    "\n",
    "Let $ \\textbf{V} $ be a finite-dimensional inner product space. If $ \\textbf{P} $ is the transition matrix from one orthonormal basis for $ \\textbf{V} $ to another orthonormal basis for $ \\textbf{V} $, then $ \\textbf{P} $ is an orthogonal matrix."
   ]
  }
 ],
 "metadata": {
  "kernelspec": {
   "display_name": "Python 3 (ipykernel)",
   "language": "python",
   "name": "python3"
  },
  "language_info": {
   "codemirror_mode": {
    "name": "ipython",
    "version": 3
   },
   "file_extension": ".py",
   "mimetype": "text/x-python",
   "name": "python",
   "nbconvert_exporter": "python",
   "pygments_lexer": "ipython3",
   "version": "3.10.11"
  }
 },
 "nbformat": 4,
 "nbformat_minor": 4
}
